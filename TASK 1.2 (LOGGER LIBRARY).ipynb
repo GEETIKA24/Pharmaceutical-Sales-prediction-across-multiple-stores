{
 "cells": [
  {
   "cell_type": "markdown",
   "id": "84514e9d",
   "metadata": {},
   "source": [
    "# TASK 1.2 (Log your steps using the logger library in python)"
   ]
  },
  {
   "cell_type": "code",
   "execution_count": 3,
   "id": "c065968f",
   "metadata": {},
   "outputs": [],
   "source": [
    "import logging"
   ]
  },
  {
   "cell_type": "code",
   "execution_count": 4,
   "id": "87320e97",
   "metadata": {},
   "outputs": [],
   "source": [
    "#Configure the logging setting \n",
    "\n",
    "logging.basicConfig(filename = 'logfile.log',level=logging.INFO,filemode='w',format='%(asctime)s-%(levelname)s-%(message)s-%(name)s'\n",
    "           )"
   ]
  },
  {
   "cell_type": "code",
   "execution_count": 5,
   "id": "69ad3cae",
   "metadata": {},
   "outputs": [],
   "source": [
    "#creates logger object\n",
    "\n",
    "logger = logging.getLogger()\n",
    "logger = logging.getLogger('my_logger')\n",
    "\n",
    "logger.setLevel(logging.DEBUG)\n"
   ]
  },
  {
   "cell_type": "code",
   "execution_count": 7,
   "id": "561e95bd",
   "metadata": {},
   "outputs": [],
   "source": [
    "#creating and configuring handlers\n",
    "\n",
    "file_handler = logging.FileHandler(\"app.log\")\n",
    "console_handler = logging.StreamHandler()\n"
   ]
  },
  {
   "cell_type": "code",
   "execution_count": 8,
   "id": "20023771",
   "metadata": {},
   "outputs": [],
   "source": [
    "#setting the log level for each handler \n",
    "\n",
    "file_handler.setLevel(logging.ERROR)\n",
    "console_handler.setLevel(logging.DEBUG)\n"
   ]
  },
  {
   "cell_type": "code",
   "execution_count": 9,
   "id": "231cd11b",
   "metadata": {},
   "outputs": [],
   "source": [
    "#create a formatter \n",
    "formatter = logging.Formatter(\"%(asctime)s-%(name)s-%(levelname)s-%(message)s)\")"
   ]
  },
  {
   "cell_type": "code",
   "execution_count": 10,
   "id": "8d8e4b5d",
   "metadata": {},
   "outputs": [],
   "source": [
    "#setting the formatter for each handler \n",
    "\n",
    "file_handler.setFormatter(formatter)\n",
    "console_handler.setFormatter(formatter)\n"
   ]
  },
  {
   "cell_type": "code",
   "execution_count": 11,
   "id": "15345fd7",
   "metadata": {},
   "outputs": [],
   "source": [
    "#attaching the handlers to the logger \n",
    "\n",
    "logger.addHandler(file_handler)\n",
    "logger.addHandler(console_handler)\n"
   ]
  },
  {
   "cell_type": "code",
   "execution_count": 12,
   "id": "a0257ae4",
   "metadata": {},
   "outputs": [
    {
     "name": "stderr",
     "output_type": "stream",
     "text": [
      "2024-01-05 22:16:06,351-my_logger-DEBUG-This is a debug message)\n",
      "2024-01-05 22:16:06,358-my_logger-INFO-This is an info message)\n",
      "2024-01-05 22:16:06,359-my_logger-WARNING-this is a warning message)\n",
      "2024-01-05 22:16:06,359-my_logger-ERROR-This is an error message)\n",
      "2024-01-05 22:16:06,359-my_logger-CRITICAL-This is a critical message)\n"
     ]
    }
   ],
   "source": [
    "#logging messages\n",
    "\n",
    "logger.debug(\"This is a debug message\")\n",
    "logger.info(\"This is an info message\")\n",
    "logger.warning(\"this is a warning message\")\n",
    "logger.error(\"This is an error message\")\n",
    "logger.critical(\"This is a critical message\")\n"
   ]
  },
  {
   "cell_type": "code",
   "execution_count": 19,
   "id": "5285a258",
   "metadata": {},
   "outputs": [
    {
     "name": "stderr",
     "output_type": "stream",
     "text": [
      "2024-01-05 22:23:42,456-my_logger-INFO-Program started.)\n",
      "2024-01-05 22:23:42,457-my_logger-INFO-Starting my_function...)\n",
      "2024-01-05 22:23:42,459-my_logger-INFO-Result: 5.0)\n",
      "2024-01-05 22:23:42,461-my_logger-INFO-Finished my_function.)\n",
      "2024-01-05 22:23:42,462-my_logger-INFO-Program finished.)\n"
     ]
    }
   ],
   "source": [
    "def my_function():\n",
    "    logger.info('Starting my_function...')\n",
    "    \n",
    "    try:\n",
    "        #your code logic here\n",
    "        result=10/2\n",
    "        logger.info('Result: %s' , result)\n",
    "    except Exception as e:\n",
    "        logger.error('An error accurred: %s' , str(e))\n",
    "    finally:\n",
    "        logger.info('Finished my_function.')\n",
    "        \n",
    "if __name__ == '__main__':\n",
    "    #your main code is here \n",
    "    logger.info('Program started.')\n",
    "    my_function()\n",
    "    logger.info('Program finished.')\n",
    "    "
   ]
  },
  {
   "cell_type": "code",
   "execution_count": null,
   "id": "c8b1b2a5",
   "metadata": {},
   "outputs": [],
   "source": []
  }
 ],
 "metadata": {
  "kernelspec": {
   "display_name": "Python 3 (ipykernel)",
   "language": "python",
   "name": "python3"
  },
  "language_info": {
   "codemirror_mode": {
    "name": "ipython",
    "version": 3
   },
   "file_extension": ".py",
   "mimetype": "text/x-python",
   "name": "python",
   "nbconvert_exporter": "python",
   "pygments_lexer": "ipython3",
   "version": "3.10.9"
  }
 },
 "nbformat": 4,
 "nbformat_minor": 5
}
