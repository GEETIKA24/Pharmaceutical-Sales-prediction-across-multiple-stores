{
 "cells": [
  {
   "cell_type": "markdown",
   "id": "c43d9cb1",
   "metadata": {},
   "source": [
    "# Using MLFlow to serve the prediction"
   ]
  },
  {
   "cell_type": "markdown",
   "id": "ca58d855",
   "metadata": {},
   "source": [
    "This ML Model will predict sales only on stores which are open and when there is some sales because there is no sales when store is closed."
   ]
  },
  {
   "cell_type": "markdown",
   "id": "18793b41",
   "metadata": {},
   "source": [
    "# Importing Libraries"
   ]
  },
  {
   "cell_type": "code",
   "execution_count": 1,
   "id": "5c9b680b",
   "metadata": {},
   "outputs": [],
   "source": [
    "# Importing Machine Learning & Evaluation Metrics Libraries\n",
    "from scipy.stats import zscore\n",
    "from sklearn.linear_model import Lasso, Ridge\n",
    "from sklearn.model_selection import train_test_split\n",
    "from sklearn.preprocessing import StandardScaler\n",
    "from sklearn.linear_model import LinearRegression\n",
    "from sklearn.pipeline import Pipeline\n",
    "from sklearn.tree import DecisionTreeRegressor\n",
    "from sklearn.metrics import r2_score as r2, mean_squared_error as mse\n",
    "import math\n",
    "from sklearn.ensemble import RandomForestRegressor\n",
    "import lightgbm as lgb\n",
    "from sklearn.metrics import r2_score\n",
    "from sklearn.metrics import confusion_matrix,classification_report\n",
    "import pandas as pd\n",
    "import warnings\n",
    "import numpy as np\n",
    "\n",
    "warnings.filterwarnings(\"ignore\")\n",
    "import matplotlib.pyplot as plt"
   ]
  },
  {
   "cell_type": "code",
   "execution_count": 2,
   "id": "2bc8917e",
   "metadata": {},
   "outputs": [],
   "source": [
    "from sklearn.metrics import mean_squared_error\n",
    "import numpy as np"
   ]
  },
  {
   "cell_type": "markdown",
   "id": "c145a09a",
   "metadata": {},
   "source": [
    "# Loading Datasets"
   ]
  },
  {
   "cell_type": "code",
   "execution_count": 3,
   "id": "fdd09061",
   "metadata": {},
   "outputs": [],
   "source": [
    "df2 = pd.read_csv(\"store.csv\")\n",
    "\n",
    "df1 = pd.read_csv(\"train.csv\",parse_dates = True, index_col = 'Date')\n"
   ]
  },
  {
   "cell_type": "markdown",
   "id": "8fda68ca",
   "metadata": {},
   "source": [
    "# Checking for Null Values"
   ]
  },
  {
   "cell_type": "code",
   "execution_count": 4,
   "id": "28cd3849",
   "metadata": {},
   "outputs": [
    {
     "name": "stdout",
     "output_type": "stream",
     "text": [
      "df1 \n",
      " Store            0\n",
      "DayOfWeek        0\n",
      "Sales            0\n",
      "Customers        0\n",
      "Open             0\n",
      "Promo            0\n",
      "StateHoliday     0\n",
      "SchoolHoliday    0\n",
      "dtype: int64 \n",
      "\n",
      "\n",
      "df2 \n",
      " Store                          0\n",
      "StoreType                      0\n",
      "Assortment                     0\n",
      "CompetitionDistance            3\n",
      "CompetitionOpenSinceMonth    354\n",
      "CompetitionOpenSinceYear     354\n",
      "Promo2                         0\n",
      "Promo2SinceWeek              544\n",
      "Promo2SinceYear              544\n",
      "PromoInterval                544\n",
      "dtype: int64\n"
     ]
    }
   ],
   "source": [
    "# Analyzing Null Values for both the Datasets\n",
    "print('df1 \\n',df1.isnull().sum(),'\\n\\n')\n",
    "print('df2 \\n',df2.isnull().sum())"
   ]
  },
  {
   "cell_type": "markdown",
   "id": "97b645ff",
   "metadata": {},
   "source": [
    "**Observation:- Null values are present in store.csv (df2) dataset only. There is no any missing value available in Rossmann(df1) datasets.\n",
    "\n",
    "**Now we wll calculate the missing value in percentage of df2 (store datasets) only beacuse other dataset (df1) has no null values."
   ]
  },
  {
   "cell_type": "code",
   "execution_count": 66,
   "id": "c94af054",
   "metadata": {},
   "outputs": [
    {
     "data": {
      "text/plain": [
       "Store                        0.0\n",
       "StoreType                    0.0\n",
       "Assortment                   0.0\n",
       "CompetitionDistance          0.0\n",
       "CompetitionOpenSinceMonth    0.0\n",
       "CompetitionOpenSinceYear     0.0\n",
       "Promo2                       0.0\n",
       "Promo2SinceWeek              0.0\n",
       "Promo2SinceYear              0.0\n",
       "PromoInterval                0.0\n",
       "dtype: float64"
      ]
     },
     "execution_count": 66,
     "metadata": {},
     "output_type": "execute_result"
    }
   ],
   "source": [
    "#Null value (percentage) of total dataset(store).\n",
    "(df2.isnull().sum()/df2.shape[0])*100"
   ]
  },
  {
   "cell_type": "markdown",
   "id": "55cad3aa",
   "metadata": {},
   "source": [
    "**Observation:- We can see the high percentage of missing/null values in some features of the 'store' dataset(df1). So, now we will try to replace these with some suitable values as they won't help in our model. Let's analyse their distribution."
   ]
  },
  {
   "cell_type": "markdown",
   "id": "5a2bc913",
   "metadata": {},
   "source": [
    "# Handling Null Values"
   ]
  },
  {
   "cell_type": "code",
   "execution_count": 6,
   "id": "7336ff13",
   "metadata": {},
   "outputs": [],
   "source": [
    "# Handling Missing Values\n",
    "# Replacing NaN values in 'Promo2SinceWeek', 'Promo2SinceYear', 'PromoInterval' by 0\n",
    "df2['Promo2SinceWeek'] = df2['Promo2SinceWeek'].fillna(0)\n",
    "df2['Promo2SinceYear'] = df2['Promo2SinceYear'].fillna(0)\n",
    "df2['PromoInterval'] = df2['PromoInterval'].fillna(0)\n",
    "\n",
    "# Replacing NaN values in 'CompetitionDistance' with Median \n",
    "df2['CompetitionDistance'] = df2['CompetitionDistance'].fillna(df2['CompetitionDistance'].median())\n",
    "\n",
    "# Replacing NaN values in 'CompetitionOpenSinceMonth', 'CompetitionOpenSinceYear' with Mode\n",
    "df2['CompetitionOpenSinceMonth'] = df2['CompetitionOpenSinceMonth'].fillna(df2['CompetitionOpenSinceMonth'].mode().iloc[0])\n",
    "df2['CompetitionOpenSinceYear'] = df2['CompetitionOpenSinceYear'].fillna(df2['CompetitionOpenSinceYear'].mode().iloc[0])"
   ]
  },
  {
   "cell_type": "code",
   "execution_count": 7,
   "id": "e5a8458a",
   "metadata": {},
   "outputs": [
    {
     "name": "stdout",
     "output_type": "stream",
     "text": [
      "Store                        0\n",
      "StoreType                    0\n",
      "Assortment                   0\n",
      "CompetitionDistance          0\n",
      "CompetitionOpenSinceMonth    0\n",
      "CompetitionOpenSinceYear     0\n",
      "Promo2                       0\n",
      "Promo2SinceWeek              0\n",
      "Promo2SinceYear              0\n",
      "PromoInterval                0\n",
      "dtype: int64\n"
     ]
    }
   ],
   "source": [
    "# Checking if any Null Value left for any feature\n",
    "print(df2.isnull().sum())"
   ]
  },
  {
   "cell_type": "markdown",
   "id": "e0e41927",
   "metadata": {},
   "source": [
    "# Working with 'Date' Column"
   ]
  },
  {
   "cell_type": "code",
   "execution_count": 8,
   "id": "5d3aeb89",
   "metadata": {},
   "outputs": [],
   "source": [
    "# Assuming df1 is your DataFrame with a RangeIndex\n",
    "# Convert the index to DatetimeIndex\n",
    "df1.index = pd.to_datetime(df1.index)\n",
    "\n",
    "# Now, you can extract year, month, day, and week of year\n",
    "df1['Year'] = df1.index.year\n",
    "df1['Month'] = df1.index.month\n",
    "df1['Day'] = df1.index.day\n",
    "df1['WeekOfYear'] = df1.index.isocalendar().week\n",
    "df1 = df1.reset_index()"
   ]
  },
  {
   "cell_type": "markdown",
   "id": "8ccc2122",
   "metadata": {},
   "source": [
    "# Checking for Duplicates"
   ]
  },
  {
   "cell_type": "code",
   "execution_count": 9,
   "id": "f524e0df",
   "metadata": {},
   "outputs": [
    {
     "name": "stdout",
     "output_type": "stream",
     "text": [
      "0\n",
      "0\n"
     ]
    }
   ],
   "source": [
    "# Checking for duplicates \n",
    "print(df1.duplicated().sum())\n",
    "print(df2.duplicated().sum())"
   ]
  },
  {
   "cell_type": "markdown",
   "id": "3999260a",
   "metadata": {},
   "source": [
    "# Merging both the Datasets"
   ]
  },
  {
   "cell_type": "code",
   "execution_count": 10,
   "id": "d574cd45",
   "metadata": {},
   "outputs": [],
   "source": [
    "# Joining/Merging Both the Dataframes \n",
    "rossmann_Store_df = pd.merge(df1, df2, how='left', on='Store')"
   ]
  },
  {
   "cell_type": "markdown",
   "id": "d738509e",
   "metadata": {},
   "source": [
    "# Understanding the Dataset"
   ]
  },
  {
   "cell_type": "code",
   "execution_count": 11,
   "id": "07435760",
   "metadata": {
    "scrolled": true
   },
   "outputs": [
    {
     "data": {
      "text/html": [
       "<div>\n",
       "<style scoped>\n",
       "    .dataframe tbody tr th:only-of-type {\n",
       "        vertical-align: middle;\n",
       "    }\n",
       "\n",
       "    .dataframe tbody tr th {\n",
       "        vertical-align: top;\n",
       "    }\n",
       "\n",
       "    .dataframe thead th {\n",
       "        text-align: right;\n",
       "    }\n",
       "</style>\n",
       "<table border=\"1\" class=\"dataframe\">\n",
       "  <thead>\n",
       "    <tr style=\"text-align: right;\">\n",
       "      <th></th>\n",
       "      <th>0</th>\n",
       "      <th>1</th>\n",
       "      <th>2</th>\n",
       "      <th>3</th>\n",
       "      <th>4</th>\n",
       "    </tr>\n",
       "  </thead>\n",
       "  <tbody>\n",
       "    <tr>\n",
       "      <th>Date</th>\n",
       "      <td>2015-07-31 00:00:00</td>\n",
       "      <td>2015-07-31 00:00:00</td>\n",
       "      <td>2015-07-31 00:00:00</td>\n",
       "      <td>2015-07-31 00:00:00</td>\n",
       "      <td>2015-07-31 00:00:00</td>\n",
       "    </tr>\n",
       "    <tr>\n",
       "      <th>Store</th>\n",
       "      <td>1</td>\n",
       "      <td>2</td>\n",
       "      <td>3</td>\n",
       "      <td>4</td>\n",
       "      <td>5</td>\n",
       "    </tr>\n",
       "    <tr>\n",
       "      <th>DayOfWeek</th>\n",
       "      <td>5</td>\n",
       "      <td>5</td>\n",
       "      <td>5</td>\n",
       "      <td>5</td>\n",
       "      <td>5</td>\n",
       "    </tr>\n",
       "    <tr>\n",
       "      <th>Sales</th>\n",
       "      <td>5263</td>\n",
       "      <td>6064</td>\n",
       "      <td>8314</td>\n",
       "      <td>13995</td>\n",
       "      <td>4822</td>\n",
       "    </tr>\n",
       "    <tr>\n",
       "      <th>Customers</th>\n",
       "      <td>555</td>\n",
       "      <td>625</td>\n",
       "      <td>821</td>\n",
       "      <td>1498</td>\n",
       "      <td>559</td>\n",
       "    </tr>\n",
       "    <tr>\n",
       "      <th>Open</th>\n",
       "      <td>1</td>\n",
       "      <td>1</td>\n",
       "      <td>1</td>\n",
       "      <td>1</td>\n",
       "      <td>1</td>\n",
       "    </tr>\n",
       "    <tr>\n",
       "      <th>Promo</th>\n",
       "      <td>1</td>\n",
       "      <td>1</td>\n",
       "      <td>1</td>\n",
       "      <td>1</td>\n",
       "      <td>1</td>\n",
       "    </tr>\n",
       "    <tr>\n",
       "      <th>StateHoliday</th>\n",
       "      <td>0</td>\n",
       "      <td>0</td>\n",
       "      <td>0</td>\n",
       "      <td>0</td>\n",
       "      <td>0</td>\n",
       "    </tr>\n",
       "    <tr>\n",
       "      <th>SchoolHoliday</th>\n",
       "      <td>1</td>\n",
       "      <td>1</td>\n",
       "      <td>1</td>\n",
       "      <td>1</td>\n",
       "      <td>1</td>\n",
       "    </tr>\n",
       "    <tr>\n",
       "      <th>Year</th>\n",
       "      <td>2015</td>\n",
       "      <td>2015</td>\n",
       "      <td>2015</td>\n",
       "      <td>2015</td>\n",
       "      <td>2015</td>\n",
       "    </tr>\n",
       "    <tr>\n",
       "      <th>Month</th>\n",
       "      <td>7</td>\n",
       "      <td>7</td>\n",
       "      <td>7</td>\n",
       "      <td>7</td>\n",
       "      <td>7</td>\n",
       "    </tr>\n",
       "    <tr>\n",
       "      <th>Day</th>\n",
       "      <td>31</td>\n",
       "      <td>31</td>\n",
       "      <td>31</td>\n",
       "      <td>31</td>\n",
       "      <td>31</td>\n",
       "    </tr>\n",
       "    <tr>\n",
       "      <th>WeekOfYear</th>\n",
       "      <td>31</td>\n",
       "      <td>31</td>\n",
       "      <td>31</td>\n",
       "      <td>31</td>\n",
       "      <td>31</td>\n",
       "    </tr>\n",
       "    <tr>\n",
       "      <th>StoreType</th>\n",
       "      <td>c</td>\n",
       "      <td>a</td>\n",
       "      <td>a</td>\n",
       "      <td>c</td>\n",
       "      <td>a</td>\n",
       "    </tr>\n",
       "    <tr>\n",
       "      <th>Assortment</th>\n",
       "      <td>a</td>\n",
       "      <td>a</td>\n",
       "      <td>a</td>\n",
       "      <td>c</td>\n",
       "      <td>a</td>\n",
       "    </tr>\n",
       "    <tr>\n",
       "      <th>CompetitionDistance</th>\n",
       "      <td>1270.0</td>\n",
       "      <td>570.0</td>\n",
       "      <td>14130.0</td>\n",
       "      <td>620.0</td>\n",
       "      <td>29910.0</td>\n",
       "    </tr>\n",
       "    <tr>\n",
       "      <th>CompetitionOpenSinceMonth</th>\n",
       "      <td>9.0</td>\n",
       "      <td>11.0</td>\n",
       "      <td>12.0</td>\n",
       "      <td>9.0</td>\n",
       "      <td>4.0</td>\n",
       "    </tr>\n",
       "    <tr>\n",
       "      <th>CompetitionOpenSinceYear</th>\n",
       "      <td>2008.0</td>\n",
       "      <td>2007.0</td>\n",
       "      <td>2006.0</td>\n",
       "      <td>2009.0</td>\n",
       "      <td>2015.0</td>\n",
       "    </tr>\n",
       "    <tr>\n",
       "      <th>Promo2</th>\n",
       "      <td>0</td>\n",
       "      <td>1</td>\n",
       "      <td>1</td>\n",
       "      <td>0</td>\n",
       "      <td>0</td>\n",
       "    </tr>\n",
       "    <tr>\n",
       "      <th>Promo2SinceWeek</th>\n",
       "      <td>0.0</td>\n",
       "      <td>13.0</td>\n",
       "      <td>14.0</td>\n",
       "      <td>0.0</td>\n",
       "      <td>0.0</td>\n",
       "    </tr>\n",
       "    <tr>\n",
       "      <th>Promo2SinceYear</th>\n",
       "      <td>0.0</td>\n",
       "      <td>2010.0</td>\n",
       "      <td>2011.0</td>\n",
       "      <td>0.0</td>\n",
       "      <td>0.0</td>\n",
       "    </tr>\n",
       "    <tr>\n",
       "      <th>PromoInterval</th>\n",
       "      <td>0</td>\n",
       "      <td>Jan,Apr,Jul,Oct</td>\n",
       "      <td>Jan,Apr,Jul,Oct</td>\n",
       "      <td>0</td>\n",
       "      <td>0</td>\n",
       "    </tr>\n",
       "  </tbody>\n",
       "</table>\n",
       "</div>"
      ],
      "text/plain": [
       "                                             0                    1  \\\n",
       "Date                       2015-07-31 00:00:00  2015-07-31 00:00:00   \n",
       "Store                                        1                    2   \n",
       "DayOfWeek                                    5                    5   \n",
       "Sales                                     5263                 6064   \n",
       "Customers                                  555                  625   \n",
       "Open                                         1                    1   \n",
       "Promo                                        1                    1   \n",
       "StateHoliday                                 0                    0   \n",
       "SchoolHoliday                                1                    1   \n",
       "Year                                      2015                 2015   \n",
       "Month                                        7                    7   \n",
       "Day                                         31                   31   \n",
       "WeekOfYear                                  31                   31   \n",
       "StoreType                                    c                    a   \n",
       "Assortment                                   a                    a   \n",
       "CompetitionDistance                     1270.0                570.0   \n",
       "CompetitionOpenSinceMonth                  9.0                 11.0   \n",
       "CompetitionOpenSinceYear                2008.0               2007.0   \n",
       "Promo2                                       0                    1   \n",
       "Promo2SinceWeek                            0.0                 13.0   \n",
       "Promo2SinceYear                            0.0               2010.0   \n",
       "PromoInterval                                0      Jan,Apr,Jul,Oct   \n",
       "\n",
       "                                             2                    3  \\\n",
       "Date                       2015-07-31 00:00:00  2015-07-31 00:00:00   \n",
       "Store                                        3                    4   \n",
       "DayOfWeek                                    5                    5   \n",
       "Sales                                     8314                13995   \n",
       "Customers                                  821                 1498   \n",
       "Open                                         1                    1   \n",
       "Promo                                        1                    1   \n",
       "StateHoliday                                 0                    0   \n",
       "SchoolHoliday                                1                    1   \n",
       "Year                                      2015                 2015   \n",
       "Month                                        7                    7   \n",
       "Day                                         31                   31   \n",
       "WeekOfYear                                  31                   31   \n",
       "StoreType                                    a                    c   \n",
       "Assortment                                   a                    c   \n",
       "CompetitionDistance                    14130.0                620.0   \n",
       "CompetitionOpenSinceMonth                 12.0                  9.0   \n",
       "CompetitionOpenSinceYear                2006.0               2009.0   \n",
       "Promo2                                       1                    0   \n",
       "Promo2SinceWeek                           14.0                  0.0   \n",
       "Promo2SinceYear                         2011.0                  0.0   \n",
       "PromoInterval                  Jan,Apr,Jul,Oct                    0   \n",
       "\n",
       "                                             4  \n",
       "Date                       2015-07-31 00:00:00  \n",
       "Store                                        5  \n",
       "DayOfWeek                                    5  \n",
       "Sales                                     4822  \n",
       "Customers                                  559  \n",
       "Open                                         1  \n",
       "Promo                                        1  \n",
       "StateHoliday                                 0  \n",
       "SchoolHoliday                                1  \n",
       "Year                                      2015  \n",
       "Month                                        7  \n",
       "Day                                         31  \n",
       "WeekOfYear                                  31  \n",
       "StoreType                                    a  \n",
       "Assortment                                   a  \n",
       "CompetitionDistance                    29910.0  \n",
       "CompetitionOpenSinceMonth                  4.0  \n",
       "CompetitionOpenSinceYear                2015.0  \n",
       "Promo2                                       0  \n",
       "Promo2SinceWeek                            0.0  \n",
       "Promo2SinceYear                            0.0  \n",
       "PromoInterval                                0  "
      ]
     },
     "execution_count": 11,
     "metadata": {},
     "output_type": "execute_result"
    }
   ],
   "source": [
    "# Using head function, first 5 rows of Merged dataset\n",
    "rossmann_Store_df.head().T"
   ]
  },
  {
   "cell_type": "code",
   "execution_count": 12,
   "id": "0166d341",
   "metadata": {},
   "outputs": [
    {
     "data": {
      "text/plain": [
       "1017209"
      ]
     },
     "execution_count": 12,
     "metadata": {},
     "output_type": "execute_result"
    }
   ],
   "source": [
    "# Using len function, calculating the no. of records in the datset\n",
    "len(rossmann_Store_df)"
   ]
  },
  {
   "cell_type": "code",
   "execution_count": 13,
   "id": "4dd31bfd",
   "metadata": {},
   "outputs": [
    {
     "data": {
      "text/plain": [
       "Index(['Date', 'Store', 'DayOfWeek', 'Sales', 'Customers', 'Open', 'Promo',\n",
       "       'StateHoliday', 'SchoolHoliday', 'Year', 'Month', 'Day', 'WeekOfYear',\n",
       "       'StoreType', 'Assortment', 'CompetitionDistance',\n",
       "       'CompetitionOpenSinceMonth', 'CompetitionOpenSinceYear', 'Promo2',\n",
       "       'Promo2SinceWeek', 'Promo2SinceYear', 'PromoInterval'],\n",
       "      dtype='object')"
      ]
     },
     "execution_count": 13,
     "metadata": {},
     "output_type": "execute_result"
    }
   ],
   "source": [
    "# Using columns attribute, list of features/columns name in the dataset\n",
    "rossmann_Store_df.columns"
   ]
  },
  {
   "cell_type": "code",
   "execution_count": 14,
   "id": "7a10b66c",
   "metadata": {},
   "outputs": [
    {
     "data": {
      "text/plain": [
       "0"
      ]
     },
     "execution_count": 14,
     "metadata": {},
     "output_type": "execute_result"
    }
   ],
   "source": [
    "# Checking for duplicates in the merged dataset\n",
    "rossmann_Store_df.duplicated().sum()"
   ]
  },
  {
   "cell_type": "code",
   "execution_count": 15,
   "id": "a913bf6d",
   "metadata": {},
   "outputs": [
    {
     "name": "stdout",
     "output_type": "stream",
     "text": [
      "<class 'pandas.core.frame.DataFrame'>\n",
      "Int64Index: 1017209 entries, 0 to 1017208\n",
      "Data columns (total 22 columns):\n",
      " #   Column                     Non-Null Count    Dtype         \n",
      "---  ------                     --------------    -----         \n",
      " 0   Date                       1017209 non-null  datetime64[ns]\n",
      " 1   Store                      1017209 non-null  int64         \n",
      " 2   DayOfWeek                  1017209 non-null  int64         \n",
      " 3   Sales                      1017209 non-null  int64         \n",
      " 4   Customers                  1017209 non-null  int64         \n",
      " 5   Open                       1017209 non-null  int64         \n",
      " 6   Promo                      1017209 non-null  int64         \n",
      " 7   StateHoliday               1017209 non-null  object        \n",
      " 8   SchoolHoliday              1017209 non-null  int64         \n",
      " 9   Year                       1017209 non-null  int64         \n",
      " 10  Month                      1017209 non-null  int64         \n",
      " 11  Day                        1017209 non-null  int64         \n",
      " 12  WeekOfYear                 1017209 non-null  UInt32        \n",
      " 13  StoreType                  1017209 non-null  object        \n",
      " 14  Assortment                 1017209 non-null  object        \n",
      " 15  CompetitionDistance        1017209 non-null  float64       \n",
      " 16  CompetitionOpenSinceMonth  1017209 non-null  float64       \n",
      " 17  CompetitionOpenSinceYear   1017209 non-null  float64       \n",
      " 18  Promo2                     1017209 non-null  int64         \n",
      " 19  Promo2SinceWeek            1017209 non-null  float64       \n",
      " 20  Promo2SinceYear            1017209 non-null  float64       \n",
      " 21  PromoInterval              1017209 non-null  object        \n",
      "dtypes: UInt32(1), datetime64[ns](1), float64(5), int64(11), object(4)\n",
      "memory usage: 175.6+ MB\n"
     ]
    }
   ],
   "source": [
    "# Summary of merged dataset\n",
    "rossmann_Store_df.info()"
   ]
  },
  {
   "cell_type": "markdown",
   "id": "fdc1bd7c",
   "metadata": {},
   "source": [
    "# Changing Datatype of some columns"
   ]
  },
  {
   "cell_type": "code",
   "execution_count": 16,
   "id": "7ce3c950",
   "metadata": {},
   "outputs": [],
   "source": [
    "# Changing datatype of some columns\n",
    "rossmann_Store_df['CompetitionOpenSinceMonth'] = rossmann_Store_df['CompetitionOpenSinceMonth'].astype(int)\n",
    "rossmann_Store_df['CompetitionOpenSinceYear'] = rossmann_Store_df['CompetitionOpenSinceYear'].astype(int)\n",
    "rossmann_Store_df['Promo2SinceWeek'] = rossmann_Store_df['Promo2SinceWeek'].astype(int)\n",
    "rossmann_Store_df['Promo2SinceYear'] = rossmann_Store_df['Promo2SinceYear'].astype(int)"
   ]
  },
  {
   "cell_type": "code",
   "execution_count": 17,
   "id": "e093399d",
   "metadata": {},
   "outputs": [
    {
     "data": {
      "text/html": [
       "<div>\n",
       "<style scoped>\n",
       "    .dataframe tbody tr th:only-of-type {\n",
       "        vertical-align: middle;\n",
       "    }\n",
       "\n",
       "    .dataframe tbody tr th {\n",
       "        vertical-align: top;\n",
       "    }\n",
       "\n",
       "    .dataframe thead th {\n",
       "        text-align: right;\n",
       "    }\n",
       "</style>\n",
       "<table border=\"1\" class=\"dataframe\">\n",
       "  <thead>\n",
       "    <tr style=\"text-align: right;\">\n",
       "      <th></th>\n",
       "      <th>Store</th>\n",
       "      <th>DayOfWeek</th>\n",
       "      <th>Sales</th>\n",
       "      <th>Customers</th>\n",
       "      <th>Open</th>\n",
       "      <th>Promo</th>\n",
       "      <th>SchoolHoliday</th>\n",
       "      <th>Year</th>\n",
       "      <th>Month</th>\n",
       "      <th>Day</th>\n",
       "      <th>WeekOfYear</th>\n",
       "      <th>CompetitionDistance</th>\n",
       "      <th>CompetitionOpenSinceMonth</th>\n",
       "      <th>CompetitionOpenSinceYear</th>\n",
       "      <th>Promo2</th>\n",
       "      <th>Promo2SinceWeek</th>\n",
       "      <th>Promo2SinceYear</th>\n",
       "    </tr>\n",
       "  </thead>\n",
       "  <tbody>\n",
       "    <tr>\n",
       "      <th>count</th>\n",
       "      <td>1017209.00</td>\n",
       "      <td>1017209.0</td>\n",
       "      <td>1017209.00</td>\n",
       "      <td>1017209.00</td>\n",
       "      <td>1017209.00</td>\n",
       "      <td>1017209.00</td>\n",
       "      <td>1017209.00</td>\n",
       "      <td>1017209.00</td>\n",
       "      <td>1017209.00</td>\n",
       "      <td>1017209.00</td>\n",
       "      <td>1017209.0</td>\n",
       "      <td>1017209.00</td>\n",
       "      <td>1017209.00</td>\n",
       "      <td>1017209.00</td>\n",
       "      <td>1017209.0</td>\n",
       "      <td>1017209.00</td>\n",
       "      <td>1017209.00</td>\n",
       "    </tr>\n",
       "    <tr>\n",
       "      <th>mean</th>\n",
       "      <td>558.43</td>\n",
       "      <td>4.0</td>\n",
       "      <td>5773.82</td>\n",
       "      <td>633.15</td>\n",
       "      <td>0.83</td>\n",
       "      <td>0.38</td>\n",
       "      <td>0.18</td>\n",
       "      <td>2013.83</td>\n",
       "      <td>5.85</td>\n",
       "      <td>15.70</td>\n",
       "      <td>23.62</td>\n",
       "      <td>5422.02</td>\n",
       "      <td>7.79</td>\n",
       "      <td>2010.06</td>\n",
       "      <td>0.5</td>\n",
       "      <td>11.65</td>\n",
       "      <td>1007.01</td>\n",
       "    </tr>\n",
       "    <tr>\n",
       "      <th>std</th>\n",
       "      <td>321.91</td>\n",
       "      <td>2.0</td>\n",
       "      <td>3849.93</td>\n",
       "      <td>464.41</td>\n",
       "      <td>0.38</td>\n",
       "      <td>0.49</td>\n",
       "      <td>0.38</td>\n",
       "      <td>0.78</td>\n",
       "      <td>3.33</td>\n",
       "      <td>8.79</td>\n",
       "      <td>14.43</td>\n",
       "      <td>7706.92</td>\n",
       "      <td>2.78</td>\n",
       "      <td>5.34</td>\n",
       "      <td>0.5</td>\n",
       "      <td>15.32</td>\n",
       "      <td>1005.88</td>\n",
       "    </tr>\n",
       "    <tr>\n",
       "      <th>min</th>\n",
       "      <td>1.00</td>\n",
       "      <td>1.0</td>\n",
       "      <td>0.00</td>\n",
       "      <td>0.00</td>\n",
       "      <td>0.00</td>\n",
       "      <td>0.00</td>\n",
       "      <td>0.00</td>\n",
       "      <td>2013.00</td>\n",
       "      <td>1.00</td>\n",
       "      <td>1.00</td>\n",
       "      <td>1.0</td>\n",
       "      <td>20.00</td>\n",
       "      <td>1.00</td>\n",
       "      <td>1900.00</td>\n",
       "      <td>0.0</td>\n",
       "      <td>0.00</td>\n",
       "      <td>0.00</td>\n",
       "    </tr>\n",
       "    <tr>\n",
       "      <th>25%</th>\n",
       "      <td>280.00</td>\n",
       "      <td>2.0</td>\n",
       "      <td>3727.00</td>\n",
       "      <td>405.00</td>\n",
       "      <td>1.00</td>\n",
       "      <td>0.00</td>\n",
       "      <td>0.00</td>\n",
       "      <td>2013.00</td>\n",
       "      <td>3.00</td>\n",
       "      <td>8.00</td>\n",
       "      <td>11.0</td>\n",
       "      <td>710.00</td>\n",
       "      <td>6.00</td>\n",
       "      <td>2008.00</td>\n",
       "      <td>0.0</td>\n",
       "      <td>0.00</td>\n",
       "      <td>0.00</td>\n",
       "    </tr>\n",
       "    <tr>\n",
       "      <th>50%</th>\n",
       "      <td>558.00</td>\n",
       "      <td>4.0</td>\n",
       "      <td>5744.00</td>\n",
       "      <td>609.00</td>\n",
       "      <td>1.00</td>\n",
       "      <td>0.00</td>\n",
       "      <td>0.00</td>\n",
       "      <td>2014.00</td>\n",
       "      <td>6.00</td>\n",
       "      <td>16.00</td>\n",
       "      <td>22.0</td>\n",
       "      <td>2325.00</td>\n",
       "      <td>9.00</td>\n",
       "      <td>2012.00</td>\n",
       "      <td>1.0</td>\n",
       "      <td>1.00</td>\n",
       "      <td>2009.00</td>\n",
       "    </tr>\n",
       "    <tr>\n",
       "      <th>75%</th>\n",
       "      <td>838.00</td>\n",
       "      <td>6.0</td>\n",
       "      <td>7856.00</td>\n",
       "      <td>837.00</td>\n",
       "      <td>1.00</td>\n",
       "      <td>1.00</td>\n",
       "      <td>0.00</td>\n",
       "      <td>2014.00</td>\n",
       "      <td>8.00</td>\n",
       "      <td>23.00</td>\n",
       "      <td>35.0</td>\n",
       "      <td>6880.00</td>\n",
       "      <td>9.00</td>\n",
       "      <td>2013.00</td>\n",
       "      <td>1.0</td>\n",
       "      <td>22.00</td>\n",
       "      <td>2012.00</td>\n",
       "    </tr>\n",
       "    <tr>\n",
       "      <th>max</th>\n",
       "      <td>1115.00</td>\n",
       "      <td>7.0</td>\n",
       "      <td>41551.00</td>\n",
       "      <td>7388.00</td>\n",
       "      <td>1.00</td>\n",
       "      <td>1.00</td>\n",
       "      <td>1.00</td>\n",
       "      <td>2015.00</td>\n",
       "      <td>12.00</td>\n",
       "      <td>31.00</td>\n",
       "      <td>52.0</td>\n",
       "      <td>75860.00</td>\n",
       "      <td>12.00</td>\n",
       "      <td>2015.00</td>\n",
       "      <td>1.0</td>\n",
       "      <td>50.00</td>\n",
       "      <td>2015.00</td>\n",
       "    </tr>\n",
       "  </tbody>\n",
       "</table>\n",
       "</div>"
      ],
      "text/plain": [
       "            Store  DayOfWeek       Sales   Customers        Open       Promo  \\\n",
       "count  1017209.00  1017209.0  1017209.00  1017209.00  1017209.00  1017209.00   \n",
       "mean       558.43        4.0     5773.82      633.15        0.83        0.38   \n",
       "std        321.91        2.0     3849.93      464.41        0.38        0.49   \n",
       "min          1.00        1.0        0.00        0.00        0.00        0.00   \n",
       "25%        280.00        2.0     3727.00      405.00        1.00        0.00   \n",
       "50%        558.00        4.0     5744.00      609.00        1.00        0.00   \n",
       "75%        838.00        6.0     7856.00      837.00        1.00        1.00   \n",
       "max       1115.00        7.0    41551.00     7388.00        1.00        1.00   \n",
       "\n",
       "       SchoolHoliday        Year       Month         Day  WeekOfYear  \\\n",
       "count     1017209.00  1017209.00  1017209.00  1017209.00   1017209.0   \n",
       "mean            0.18     2013.83        5.85       15.70       23.62   \n",
       "std             0.38        0.78        3.33        8.79       14.43   \n",
       "min             0.00     2013.00        1.00        1.00         1.0   \n",
       "25%             0.00     2013.00        3.00        8.00        11.0   \n",
       "50%             0.00     2014.00        6.00       16.00        22.0   \n",
       "75%             0.00     2014.00        8.00       23.00        35.0   \n",
       "max             1.00     2015.00       12.00       31.00        52.0   \n",
       "\n",
       "       CompetitionDistance  CompetitionOpenSinceMonth  \\\n",
       "count           1017209.00                 1017209.00   \n",
       "mean               5422.02                       7.79   \n",
       "std                7706.92                       2.78   \n",
       "min                  20.00                       1.00   \n",
       "25%                 710.00                       6.00   \n",
       "50%                2325.00                       9.00   \n",
       "75%                6880.00                       9.00   \n",
       "max               75860.00                      12.00   \n",
       "\n",
       "       CompetitionOpenSinceYear     Promo2  Promo2SinceWeek  Promo2SinceYear  \n",
       "count                1017209.00  1017209.0       1017209.00       1017209.00  \n",
       "mean                    2010.06        0.5            11.65          1007.01  \n",
       "std                        5.34        0.5            15.32          1005.88  \n",
       "min                     1900.00        0.0             0.00             0.00  \n",
       "25%                     2008.00        0.0             0.00             0.00  \n",
       "50%                     2012.00        1.0             1.00          2009.00  \n",
       "75%                     2013.00        1.0            22.00          2012.00  \n",
       "max                     2015.00        1.0            50.00          2015.00  "
      ]
     },
     "execution_count": 17,
     "metadata": {},
     "output_type": "execute_result"
    }
   ],
   "source": [
    "# Description of Numerical columns/features\n",
    "rossmann_Store_df.describe().round(2)"
   ]
  },
  {
   "cell_type": "markdown",
   "id": "5f15a9ef",
   "metadata": {},
   "source": [
    "# Feature Engineering"
   ]
  },
  {
   "cell_type": "code",
   "execution_count": 18,
   "id": "7c21b984",
   "metadata": {},
   "outputs": [],
   "source": [
    "# Making a copy of Dataframe (rossmann_df) and further working on it\n",
    "final_df  = rossmann_Store_df.copy()"
   ]
  },
  {
   "cell_type": "code",
   "execution_count": 19,
   "id": "96594cb1",
   "metadata": {},
   "outputs": [],
   "source": [
    "# Filtering stores which are closed as they wont generate sales\n",
    "final_df = final_df[final_df.Open != 0]\n"
   ]
  },
  {
   "cell_type": "code",
   "execution_count": 20,
   "id": "129b2901",
   "metadata": {},
   "outputs": [],
   "source": [
    "# Dropping Open column as it is not a variable anymore\n",
    "final_df = final_df.drop('Open', axis=1)"
   ]
  },
  {
   "cell_type": "code",
   "execution_count": 21,
   "id": "71eb387b",
   "metadata": {},
   "outputs": [
    {
     "data": {
      "text/plain": [
       "31460"
      ]
     },
     "execution_count": 21,
     "metadata": {},
     "output_type": "execute_result"
    }
   ],
   "source": [
    "# Stores with zero Sales\n",
    "final_df[final_df.Sales == 0]['Store'].sum()"
   ]
  },
  {
   "cell_type": "code",
   "execution_count": 22,
   "id": "84504cea",
   "metadata": {},
   "outputs": [
    {
     "data": {
      "text/plain": [
       "0.0005356552440563345"
      ]
     },
     "execution_count": 22,
     "metadata": {},
     "output_type": "execute_result"
    }
   ],
   "source": [
    "# Percentage of open stored with zero sales\n",
    "final_df[final_df.Sales == 0]['Store'].sum()/final_df.Sales.sum().round(2) * 100"
   ]
  },
  {
   "cell_type": "code",
   "execution_count": 23,
   "id": "0db8a635",
   "metadata": {},
   "outputs": [],
   "source": [
    "# Filtering rows with Sales > 0\n",
    "final_df = final_df[final_df.Sales != 0]"
   ]
  },
  {
   "cell_type": "code",
   "execution_count": 24,
   "id": "79b32a2d",
   "metadata": {},
   "outputs": [
    {
     "data": {
      "text/plain": [
       "0"
      ]
     },
     "execution_count": 24,
     "metadata": {},
     "output_type": "execute_result"
    }
   ],
   "source": [
    "# Checking\n",
    "final_df[final_df.Sales == 0]['Store'].sum()"
   ]
  },
  {
   "cell_type": "code",
   "execution_count": 25,
   "id": "549001b9",
   "metadata": {},
   "outputs": [
    {
     "data": {
      "text/plain": [
       "Index(['Date', 'Store', 'DayOfWeek', 'Sales', 'Customers', 'Promo',\n",
       "       'StateHoliday', 'SchoolHoliday', 'Year', 'Month', 'Day', 'WeekOfYear',\n",
       "       'StoreType', 'Assortment', 'CompetitionDistance',\n",
       "       'CompetitionOpenSinceMonth', 'CompetitionOpenSinceYear', 'Promo2',\n",
       "       'Promo2SinceWeek', 'Promo2SinceYear', 'PromoInterval'],\n",
       "      dtype='object')"
      ]
     },
     "execution_count": 25,
     "metadata": {},
     "output_type": "execute_result"
    }
   ],
   "source": [
    "# list of columns in final_df dataframe\n",
    "final_df.columns"
   ]
  },
  {
   "cell_type": "code",
   "execution_count": 26,
   "id": "583eb7da",
   "metadata": {},
   "outputs": [
    {
     "data": {
      "text/html": [
       "<div>\n",
       "<style scoped>\n",
       "    .dataframe tbody tr th:only-of-type {\n",
       "        vertical-align: middle;\n",
       "    }\n",
       "\n",
       "    .dataframe tbody tr th {\n",
       "        vertical-align: top;\n",
       "    }\n",
       "\n",
       "    .dataframe thead th {\n",
       "        text-align: right;\n",
       "    }\n",
       "</style>\n",
       "<table border=\"1\" class=\"dataframe\">\n",
       "  <thead>\n",
       "    <tr style=\"text-align: right;\">\n",
       "      <th></th>\n",
       "      <th>count</th>\n",
       "      <th>mean</th>\n",
       "      <th>std</th>\n",
       "      <th>min</th>\n",
       "      <th>25%</th>\n",
       "      <th>50%</th>\n",
       "      <th>75%</th>\n",
       "      <th>max</th>\n",
       "    </tr>\n",
       "  </thead>\n",
       "  <tbody>\n",
       "    <tr>\n",
       "      <th>Store</th>\n",
       "      <td>844338.0</td>\n",
       "      <td>558.42</td>\n",
       "      <td>321.73</td>\n",
       "      <td>1.0</td>\n",
       "      <td>280.0</td>\n",
       "      <td>558.0</td>\n",
       "      <td>837.0</td>\n",
       "      <td>1115.0</td>\n",
       "    </tr>\n",
       "    <tr>\n",
       "      <th>DayOfWeek</th>\n",
       "      <td>844338.0</td>\n",
       "      <td>3.52</td>\n",
       "      <td>1.72</td>\n",
       "      <td>1.0</td>\n",
       "      <td>2.0</td>\n",
       "      <td>3.0</td>\n",
       "      <td>5.0</td>\n",
       "      <td>7.0</td>\n",
       "    </tr>\n",
       "    <tr>\n",
       "      <th>Sales</th>\n",
       "      <td>844338.0</td>\n",
       "      <td>6955.96</td>\n",
       "      <td>3103.82</td>\n",
       "      <td>46.0</td>\n",
       "      <td>4859.0</td>\n",
       "      <td>6369.0</td>\n",
       "      <td>8360.0</td>\n",
       "      <td>41551.0</td>\n",
       "    </tr>\n",
       "    <tr>\n",
       "      <th>Customers</th>\n",
       "      <td>844338.0</td>\n",
       "      <td>762.78</td>\n",
       "      <td>401.19</td>\n",
       "      <td>8.0</td>\n",
       "      <td>519.0</td>\n",
       "      <td>676.0</td>\n",
       "      <td>893.0</td>\n",
       "      <td>7388.0</td>\n",
       "    </tr>\n",
       "    <tr>\n",
       "      <th>Promo</th>\n",
       "      <td>844338.0</td>\n",
       "      <td>0.45</td>\n",
       "      <td>0.5</td>\n",
       "      <td>0.0</td>\n",
       "      <td>0.0</td>\n",
       "      <td>0.0</td>\n",
       "      <td>1.0</td>\n",
       "      <td>1.0</td>\n",
       "    </tr>\n",
       "    <tr>\n",
       "      <th>SchoolHoliday</th>\n",
       "      <td>844338.0</td>\n",
       "      <td>0.19</td>\n",
       "      <td>0.4</td>\n",
       "      <td>0.0</td>\n",
       "      <td>0.0</td>\n",
       "      <td>0.0</td>\n",
       "      <td>0.0</td>\n",
       "      <td>1.0</td>\n",
       "    </tr>\n",
       "    <tr>\n",
       "      <th>Year</th>\n",
       "      <td>844338.0</td>\n",
       "      <td>2013.83</td>\n",
       "      <td>0.78</td>\n",
       "      <td>2013.0</td>\n",
       "      <td>2013.0</td>\n",
       "      <td>2014.0</td>\n",
       "      <td>2014.0</td>\n",
       "      <td>2015.0</td>\n",
       "    </tr>\n",
       "    <tr>\n",
       "      <th>Month</th>\n",
       "      <td>844338.0</td>\n",
       "      <td>5.85</td>\n",
       "      <td>3.32</td>\n",
       "      <td>1.0</td>\n",
       "      <td>3.0</td>\n",
       "      <td>6.0</td>\n",
       "      <td>8.0</td>\n",
       "      <td>12.0</td>\n",
       "    </tr>\n",
       "    <tr>\n",
       "      <th>Day</th>\n",
       "      <td>844338.0</td>\n",
       "      <td>15.84</td>\n",
       "      <td>8.68</td>\n",
       "      <td>1.0</td>\n",
       "      <td>8.0</td>\n",
       "      <td>16.0</td>\n",
       "      <td>23.0</td>\n",
       "      <td>31.0</td>\n",
       "    </tr>\n",
       "    <tr>\n",
       "      <th>WeekOfYear</th>\n",
       "      <td>844338.0</td>\n",
       "      <td>23.65</td>\n",
       "      <td>14.39</td>\n",
       "      <td>1.0</td>\n",
       "      <td>11.0</td>\n",
       "      <td>23.0</td>\n",
       "      <td>35.0</td>\n",
       "      <td>52.0</td>\n",
       "    </tr>\n",
       "    <tr>\n",
       "      <th>CompetitionDistance</th>\n",
       "      <td>844338.0</td>\n",
       "      <td>5450.04</td>\n",
       "      <td>7801.08</td>\n",
       "      <td>20.0</td>\n",
       "      <td>710.0</td>\n",
       "      <td>2325.0</td>\n",
       "      <td>6880.0</td>\n",
       "      <td>75860.0</td>\n",
       "    </tr>\n",
       "    <tr>\n",
       "      <th>CompetitionOpenSinceMonth</th>\n",
       "      <td>844338.0</td>\n",
       "      <td>7.79</td>\n",
       "      <td>2.78</td>\n",
       "      <td>1.0</td>\n",
       "      <td>6.0</td>\n",
       "      <td>9.0</td>\n",
       "      <td>9.0</td>\n",
       "      <td>12.0</td>\n",
       "    </tr>\n",
       "    <tr>\n",
       "      <th>CompetitionOpenSinceYear</th>\n",
       "      <td>844338.0</td>\n",
       "      <td>2010.07</td>\n",
       "      <td>5.33</td>\n",
       "      <td>1900.0</td>\n",
       "      <td>2008.0</td>\n",
       "      <td>2012.0</td>\n",
       "      <td>2013.0</td>\n",
       "      <td>2015.0</td>\n",
       "    </tr>\n",
       "    <tr>\n",
       "      <th>Promo2</th>\n",
       "      <td>844338.0</td>\n",
       "      <td>0.5</td>\n",
       "      <td>0.5</td>\n",
       "      <td>0.0</td>\n",
       "      <td>0.0</td>\n",
       "      <td>0.0</td>\n",
       "      <td>1.0</td>\n",
       "      <td>1.0</td>\n",
       "    </tr>\n",
       "    <tr>\n",
       "      <th>Promo2SinceWeek</th>\n",
       "      <td>844338.0</td>\n",
       "      <td>11.6</td>\n",
       "      <td>15.31</td>\n",
       "      <td>0.0</td>\n",
       "      <td>0.0</td>\n",
       "      <td>0.0</td>\n",
       "      <td>22.0</td>\n",
       "      <td>50.0</td>\n",
       "    </tr>\n",
       "    <tr>\n",
       "      <th>Promo2SinceYear</th>\n",
       "      <td>844338.0</td>\n",
       "      <td>1003.2</td>\n",
       "      <td>1005.87</td>\n",
       "      <td>0.0</td>\n",
       "      <td>0.0</td>\n",
       "      <td>0.0</td>\n",
       "      <td>2012.0</td>\n",
       "      <td>2015.0</td>\n",
       "    </tr>\n",
       "  </tbody>\n",
       "</table>\n",
       "</div>"
      ],
      "text/plain": [
       "                              count     mean      std     min     25%     50%  \\\n",
       "Store                      844338.0   558.42   321.73     1.0   280.0   558.0   \n",
       "DayOfWeek                  844338.0     3.52     1.72     1.0     2.0     3.0   \n",
       "Sales                      844338.0  6955.96  3103.82    46.0  4859.0  6369.0   \n",
       "Customers                  844338.0   762.78   401.19     8.0   519.0   676.0   \n",
       "Promo                      844338.0     0.45      0.5     0.0     0.0     0.0   \n",
       "SchoolHoliday              844338.0     0.19      0.4     0.0     0.0     0.0   \n",
       "Year                       844338.0  2013.83     0.78  2013.0  2013.0  2014.0   \n",
       "Month                      844338.0     5.85     3.32     1.0     3.0     6.0   \n",
       "Day                        844338.0    15.84     8.68     1.0     8.0    16.0   \n",
       "WeekOfYear                 844338.0    23.65    14.39     1.0    11.0    23.0   \n",
       "CompetitionDistance        844338.0  5450.04  7801.08    20.0   710.0  2325.0   \n",
       "CompetitionOpenSinceMonth  844338.0     7.79     2.78     1.0     6.0     9.0   \n",
       "CompetitionOpenSinceYear   844338.0  2010.07     5.33  1900.0  2008.0  2012.0   \n",
       "Promo2                     844338.0      0.5      0.5     0.0     0.0     0.0   \n",
       "Promo2SinceWeek            844338.0     11.6    15.31     0.0     0.0     0.0   \n",
       "Promo2SinceYear            844338.0   1003.2  1005.87     0.0     0.0     0.0   \n",
       "\n",
       "                              75%      max  \n",
       "Store                       837.0   1115.0  \n",
       "DayOfWeek                     5.0      7.0  \n",
       "Sales                      8360.0  41551.0  \n",
       "Customers                   893.0   7388.0  \n",
       "Promo                         1.0      1.0  \n",
       "SchoolHoliday                 0.0      1.0  \n",
       "Year                       2014.0   2015.0  \n",
       "Month                         8.0     12.0  \n",
       "Day                          23.0     31.0  \n",
       "WeekOfYear                   35.0     52.0  \n",
       "CompetitionDistance        6880.0  75860.0  \n",
       "CompetitionOpenSinceMonth     9.0     12.0  \n",
       "CompetitionOpenSinceYear   2013.0   2015.0  \n",
       "Promo2                        1.0      1.0  \n",
       "Promo2SinceWeek              22.0     50.0  \n",
       "Promo2SinceYear            2012.0   2015.0  "
      ]
     },
     "execution_count": 26,
     "metadata": {},
     "output_type": "execute_result"
    }
   ],
   "source": [
    "# Description of Numerical columns/features\n",
    "final_df.describe().round(2).T"
   ]
  },
  {
   "cell_type": "code",
   "execution_count": 27,
   "id": "49c6c19f",
   "metadata": {},
   "outputs": [
    {
     "name": "stdout",
     "output_type": "stream",
     "text": [
      "<class 'pandas.core.frame.DataFrame'>\n",
      "Int64Index: 844338 entries, 0 to 1017190\n",
      "Data columns (total 21 columns):\n",
      " #   Column                     Non-Null Count   Dtype         \n",
      "---  ------                     --------------   -----         \n",
      " 0   Date                       844338 non-null  datetime64[ns]\n",
      " 1   Store                      844338 non-null  int64         \n",
      " 2   DayOfWeek                  844338 non-null  int64         \n",
      " 3   Sales                      844338 non-null  int64         \n",
      " 4   Customers                  844338 non-null  int64         \n",
      " 5   Promo                      844338 non-null  int64         \n",
      " 6   StateHoliday               844338 non-null  object        \n",
      " 7   SchoolHoliday              844338 non-null  int64         \n",
      " 8   Year                       844338 non-null  int64         \n",
      " 9   Month                      844338 non-null  int64         \n",
      " 10  Day                        844338 non-null  int64         \n",
      " 11  WeekOfYear                 844338 non-null  UInt32        \n",
      " 12  StoreType                  844338 non-null  object        \n",
      " 13  Assortment                 844338 non-null  object        \n",
      " 14  CompetitionDistance        844338 non-null  float64       \n",
      " 15  CompetitionOpenSinceMonth  844338 non-null  int32         \n",
      " 16  CompetitionOpenSinceYear   844338 non-null  int32         \n",
      " 17  Promo2                     844338 non-null  int64         \n",
      " 18  Promo2SinceWeek            844338 non-null  int32         \n",
      " 19  Promo2SinceYear            844338 non-null  int32         \n",
      " 20  PromoInterval              844338 non-null  object        \n",
      "dtypes: UInt32(1), datetime64[ns](1), float64(1), int32(4), int64(10), object(4)\n",
      "memory usage: 126.4+ MB\n"
     ]
    }
   ],
   "source": [
    "# Summary of final_df\n",
    "final_df.info()"
   ]
  },
  {
   "cell_type": "code",
   "execution_count": 28,
   "id": "a0916e6b",
   "metadata": {},
   "outputs": [
    {
     "data": {
      "text/plain": [
       "({0, '0', 'a', 'b', 'c'},\n",
       " {'a', 'b', 'c', 'd'},\n",
       " {'a', 'b', 'c'},\n",
       " {0, 'Feb,May,Aug,Nov', 'Jan,Apr,Jul,Oct', 'Mar,Jun,Sept,Dec'})"
      ]
     },
     "execution_count": 28,
     "metadata": {},
     "output_type": "execute_result"
    }
   ],
   "source": [
    "# Nominal Variales\n",
    "set(final_df.StateHoliday), set(final_df.StoreType), set(final_df.Assortment), set(final_df.PromoInterval)"
   ]
  },
  {
   "cell_type": "code",
   "execution_count": 29,
   "id": "43335be6",
   "metadata": {},
   "outputs": [],
   "source": [
    "# Converting number 0 to string 0 in StateHoliday column\n",
    "final_df.loc[final_df.StateHoliday == 0,'StateHoliday'] = final_df.loc[final_df.StateHoliday == 0,'StateHoliday'] "
   ]
  },
  {
   "cell_type": "code",
   "execution_count": 30,
   "id": "e9bf8d0c",
   "metadata": {},
   "outputs": [],
   "source": [
    "# Converting number 0 to string 0 in promointerval column\n",
    "final_df.loc[final_df.PromoInterval == 0,'PromoInterval'] = final_df.loc[final_df.PromoInterval == '0','PromoInterval']"
   ]
  },
  {
   "cell_type": "code",
   "execution_count": 31,
   "id": "845fd709",
   "metadata": {},
   "outputs": [],
   "source": [
    "# Dropping -inf values\n",
    "final_df.drop(final_df[final_df['Sales'] == float(\"-inf\")].index,inplace=True)"
   ]
  },
  {
   "cell_type": "markdown",
   "id": "dfb1c1f5",
   "metadata": {},
   "source": [
    "# Encoding all categorical varibale to numeric values"
   ]
  },
  {
   "cell_type": "code",
   "execution_count": 32,
   "id": "1296f644",
   "metadata": {},
   "outputs": [
    {
     "data": {
      "text/html": [
       "<div>\n",
       "<style scoped>\n",
       "    .dataframe tbody tr th:only-of-type {\n",
       "        vertical-align: middle;\n",
       "    }\n",
       "\n",
       "    .dataframe tbody tr th {\n",
       "        vertical-align: top;\n",
       "    }\n",
       "\n",
       "    .dataframe thead th {\n",
       "        text-align: right;\n",
       "    }\n",
       "</style>\n",
       "<table border=\"1\" class=\"dataframe\">\n",
       "  <thead>\n",
       "    <tr style=\"text-align: right;\">\n",
       "      <th></th>\n",
       "      <th>0</th>\n",
       "      <th>1</th>\n",
       "      <th>2</th>\n",
       "      <th>3</th>\n",
       "      <th>4</th>\n",
       "    </tr>\n",
       "  </thead>\n",
       "  <tbody>\n",
       "    <tr>\n",
       "      <th>Date</th>\n",
       "      <td>2015-07-31 00:00:00</td>\n",
       "      <td>2015-07-31 00:00:00</td>\n",
       "      <td>2015-07-31 00:00:00</td>\n",
       "      <td>2015-07-31 00:00:00</td>\n",
       "      <td>2015-07-31 00:00:00</td>\n",
       "    </tr>\n",
       "    <tr>\n",
       "      <th>Store</th>\n",
       "      <td>1</td>\n",
       "      <td>2</td>\n",
       "      <td>3</td>\n",
       "      <td>4</td>\n",
       "      <td>5</td>\n",
       "    </tr>\n",
       "    <tr>\n",
       "      <th>DayOfWeek</th>\n",
       "      <td>5</td>\n",
       "      <td>5</td>\n",
       "      <td>5</td>\n",
       "      <td>5</td>\n",
       "      <td>5</td>\n",
       "    </tr>\n",
       "    <tr>\n",
       "      <th>Sales</th>\n",
       "      <td>5263</td>\n",
       "      <td>6064</td>\n",
       "      <td>8314</td>\n",
       "      <td>13995</td>\n",
       "      <td>4822</td>\n",
       "    </tr>\n",
       "    <tr>\n",
       "      <th>Customers</th>\n",
       "      <td>555</td>\n",
       "      <td>625</td>\n",
       "      <td>821</td>\n",
       "      <td>1498</td>\n",
       "      <td>559</td>\n",
       "    </tr>\n",
       "    <tr>\n",
       "      <th>Promo</th>\n",
       "      <td>1</td>\n",
       "      <td>1</td>\n",
       "      <td>1</td>\n",
       "      <td>1</td>\n",
       "      <td>1</td>\n",
       "    </tr>\n",
       "    <tr>\n",
       "      <th>StateHoliday</th>\n",
       "      <td>0</td>\n",
       "      <td>0</td>\n",
       "      <td>0</td>\n",
       "      <td>0</td>\n",
       "      <td>0</td>\n",
       "    </tr>\n",
       "    <tr>\n",
       "      <th>SchoolHoliday</th>\n",
       "      <td>1</td>\n",
       "      <td>1</td>\n",
       "      <td>1</td>\n",
       "      <td>1</td>\n",
       "      <td>1</td>\n",
       "    </tr>\n",
       "    <tr>\n",
       "      <th>Year</th>\n",
       "      <td>2015</td>\n",
       "      <td>2015</td>\n",
       "      <td>2015</td>\n",
       "      <td>2015</td>\n",
       "      <td>2015</td>\n",
       "    </tr>\n",
       "    <tr>\n",
       "      <th>Month</th>\n",
       "      <td>7</td>\n",
       "      <td>7</td>\n",
       "      <td>7</td>\n",
       "      <td>7</td>\n",
       "      <td>7</td>\n",
       "    </tr>\n",
       "    <tr>\n",
       "      <th>Day</th>\n",
       "      <td>31</td>\n",
       "      <td>31</td>\n",
       "      <td>31</td>\n",
       "      <td>31</td>\n",
       "      <td>31</td>\n",
       "    </tr>\n",
       "    <tr>\n",
       "      <th>WeekOfYear</th>\n",
       "      <td>31</td>\n",
       "      <td>31</td>\n",
       "      <td>31</td>\n",
       "      <td>31</td>\n",
       "      <td>31</td>\n",
       "    </tr>\n",
       "    <tr>\n",
       "      <th>StoreType</th>\n",
       "      <td>2</td>\n",
       "      <td>0</td>\n",
       "      <td>0</td>\n",
       "      <td>2</td>\n",
       "      <td>0</td>\n",
       "    </tr>\n",
       "    <tr>\n",
       "      <th>Assortment</th>\n",
       "      <td>0</td>\n",
       "      <td>0</td>\n",
       "      <td>0</td>\n",
       "      <td>2</td>\n",
       "      <td>0</td>\n",
       "    </tr>\n",
       "    <tr>\n",
       "      <th>CompetitionDistance</th>\n",
       "      <td>1270.0</td>\n",
       "      <td>570.0</td>\n",
       "      <td>14130.0</td>\n",
       "      <td>620.0</td>\n",
       "      <td>29910.0</td>\n",
       "    </tr>\n",
       "    <tr>\n",
       "      <th>CompetitionOpenSinceMonth</th>\n",
       "      <td>9</td>\n",
       "      <td>11</td>\n",
       "      <td>12</td>\n",
       "      <td>9</td>\n",
       "      <td>4</td>\n",
       "    </tr>\n",
       "    <tr>\n",
       "      <th>CompetitionOpenSinceYear</th>\n",
       "      <td>2008</td>\n",
       "      <td>2007</td>\n",
       "      <td>2006</td>\n",
       "      <td>2009</td>\n",
       "      <td>2015</td>\n",
       "    </tr>\n",
       "    <tr>\n",
       "      <th>Promo2</th>\n",
       "      <td>0</td>\n",
       "      <td>1</td>\n",
       "      <td>1</td>\n",
       "      <td>0</td>\n",
       "      <td>0</td>\n",
       "    </tr>\n",
       "    <tr>\n",
       "      <th>Promo2SinceWeek</th>\n",
       "      <td>0</td>\n",
       "      <td>13</td>\n",
       "      <td>14</td>\n",
       "      <td>0</td>\n",
       "      <td>0</td>\n",
       "    </tr>\n",
       "    <tr>\n",
       "      <th>Promo2SinceYear</th>\n",
       "      <td>0</td>\n",
       "      <td>2010</td>\n",
       "      <td>2011</td>\n",
       "      <td>0</td>\n",
       "      <td>0</td>\n",
       "    </tr>\n",
       "    <tr>\n",
       "      <th>PromoInterval</th>\n",
       "      <td>3</td>\n",
       "      <td>1</td>\n",
       "      <td>1</td>\n",
       "      <td>3</td>\n",
       "      <td>3</td>\n",
       "    </tr>\n",
       "  </tbody>\n",
       "</table>\n",
       "</div>"
      ],
      "text/plain": [
       "                                             0                    1  \\\n",
       "Date                       2015-07-31 00:00:00  2015-07-31 00:00:00   \n",
       "Store                                        1                    2   \n",
       "DayOfWeek                                    5                    5   \n",
       "Sales                                     5263                 6064   \n",
       "Customers                                  555                  625   \n",
       "Promo                                        1                    1   \n",
       "StateHoliday                                 0                    0   \n",
       "SchoolHoliday                                1                    1   \n",
       "Year                                      2015                 2015   \n",
       "Month                                        7                    7   \n",
       "Day                                         31                   31   \n",
       "WeekOfYear                                  31                   31   \n",
       "StoreType                                    2                    0   \n",
       "Assortment                                   0                    0   \n",
       "CompetitionDistance                     1270.0                570.0   \n",
       "CompetitionOpenSinceMonth                    9                   11   \n",
       "CompetitionOpenSinceYear                  2008                 2007   \n",
       "Promo2                                       0                    1   \n",
       "Promo2SinceWeek                              0                   13   \n",
       "Promo2SinceYear                              0                 2010   \n",
       "PromoInterval                                3                    1   \n",
       "\n",
       "                                             2                    3  \\\n",
       "Date                       2015-07-31 00:00:00  2015-07-31 00:00:00   \n",
       "Store                                        3                    4   \n",
       "DayOfWeek                                    5                    5   \n",
       "Sales                                     8314                13995   \n",
       "Customers                                  821                 1498   \n",
       "Promo                                        1                    1   \n",
       "StateHoliday                                 0                    0   \n",
       "SchoolHoliday                                1                    1   \n",
       "Year                                      2015                 2015   \n",
       "Month                                        7                    7   \n",
       "Day                                         31                   31   \n",
       "WeekOfYear                                  31                   31   \n",
       "StoreType                                    0                    2   \n",
       "Assortment                                   0                    2   \n",
       "CompetitionDistance                    14130.0                620.0   \n",
       "CompetitionOpenSinceMonth                   12                    9   \n",
       "CompetitionOpenSinceYear                  2006                 2009   \n",
       "Promo2                                       1                    0   \n",
       "Promo2SinceWeek                             14                    0   \n",
       "Promo2SinceYear                           2011                    0   \n",
       "PromoInterval                                1                    3   \n",
       "\n",
       "                                             4  \n",
       "Date                       2015-07-31 00:00:00  \n",
       "Store                                        5  \n",
       "DayOfWeek                                    5  \n",
       "Sales                                     4822  \n",
       "Customers                                  559  \n",
       "Promo                                        1  \n",
       "StateHoliday                                 0  \n",
       "SchoolHoliday                                1  \n",
       "Year                                      2015  \n",
       "Month                                        7  \n",
       "Day                                         31  \n",
       "WeekOfYear                                  31  \n",
       "StoreType                                    0  \n",
       "Assortment                                   0  \n",
       "CompetitionDistance                    29910.0  \n",
       "CompetitionOpenSinceMonth                    4  \n",
       "CompetitionOpenSinceYear                  2015  \n",
       "Promo2                                       0  \n",
       "Promo2SinceWeek                              0  \n",
       "Promo2SinceYear                              0  \n",
       "PromoInterval                                3  "
      ]
     },
     "execution_count": 32,
     "metadata": {},
     "output_type": "execute_result"
    }
   ],
   "source": [
    "\n",
    "from sklearn.preprocessing import LabelEncoder\n",
    "label_encoder = LabelEncoder()\n",
    "\n",
    "final_df['StoreType'] = label_encoder.fit_transform(final_df['StoreType'])\n",
    "final_df['Assortment'] = label_encoder.fit_transform(final_df['Assortment'])\n",
    "#final_df['StateHoliday'] = label_encoder.fit_transform(final_df['StateHoliday'])\n",
    "final_df['PromoInterval'] = label_encoder.fit_transform(final_df['PromoInterval'])\n",
    "\n",
    "final_df.head().T"
   ]
  },
  {
   "cell_type": "code",
   "execution_count": 33,
   "id": "f6a24f8e",
   "metadata": {},
   "outputs": [],
   "source": [
    "final_df['StateHoliday'] = pd.to_numeric(final_df['StateHoliday'], errors='coerce')\n",
    "final_df['StateHoliday'].fillna(0, inplace=True)  # Replace NaN values with 0 or any other value\n",
    "final_df['StateHoliday'] = final_df['StateHoliday'].astype(int)"
   ]
  },
  {
   "cell_type": "code",
   "execution_count": 34,
   "id": "0399c562",
   "metadata": {},
   "outputs": [
    {
     "name": "stdout",
     "output_type": "stream",
     "text": [
      "[0]\n"
     ]
    }
   ],
   "source": [
    "print(final_df['StateHoliday'].unique())"
   ]
  },
  {
   "cell_type": "code",
   "execution_count": 35,
   "id": "5a5b9620",
   "metadata": {},
   "outputs": [
    {
     "data": {
      "text/plain": [
       "({0}, {0, 1, 2, 3}, {0, 1, 2}, {0, 1, 2, 3})"
      ]
     },
     "execution_count": 35,
     "metadata": {},
     "output_type": "execute_result"
    }
   ],
   "source": [
    "set(final_df.StateHoliday), set(final_df.StoreType), set(final_df.Assortment), set(final_df.PromoInterval)"
   ]
  },
  {
   "cell_type": "code",
   "execution_count": 36,
   "id": "7f2be7d7",
   "metadata": {},
   "outputs": [],
   "source": [
    "# Defining Dependent Variable\n",
    "dependent_variable = 'Sales'\n",
    "# Defining Independent Varibale\n",
    "independent_variables = list(final_df.columns.drop(['Date','Sales','Store',]))"
   ]
  },
  {
   "cell_type": "code",
   "execution_count": 37,
   "id": "6582de13",
   "metadata": {},
   "outputs": [
    {
     "data": {
      "text/plain": [
       "['DayOfWeek',\n",
       " 'Customers',\n",
       " 'Promo',\n",
       " 'StateHoliday',\n",
       " 'SchoolHoliday',\n",
       " 'Year',\n",
       " 'Month',\n",
       " 'Day',\n",
       " 'WeekOfYear',\n",
       " 'StoreType',\n",
       " 'Assortment',\n",
       " 'CompetitionDistance',\n",
       " 'CompetitionOpenSinceMonth',\n",
       " 'CompetitionOpenSinceYear',\n",
       " 'Promo2',\n",
       " 'Promo2SinceWeek',\n",
       " 'Promo2SinceYear',\n",
       " 'PromoInterval']"
      ]
     },
     "execution_count": 37,
     "metadata": {},
     "output_type": "execute_result"
    }
   ],
   "source": [
    "# List of independent variables\n",
    "independent_variables"
   ]
  },
  {
   "cell_type": "code",
   "execution_count": 38,
   "id": "f14d4b68",
   "metadata": {},
   "outputs": [],
   "source": [
    "# Creating the data of independent variables\n",
    "X = final_df[independent_variables].values\n",
    "\n",
    "# Creating the data of dependent variable\n",
    "y = final_df[dependent_variable].values"
   ]
  },
  {
   "cell_type": "markdown",
   "id": "11402f1d",
   "metadata": {},
   "source": [
    "# Splitting the Dataset into Test and Train"
   ]
  },
  {
   "cell_type": "code",
   "execution_count": 39,
   "id": "3db1a052",
   "metadata": {},
   "outputs": [
    {
     "name": "stdout",
     "output_type": "stream",
     "text": [
      "(675470, 18)\n",
      "(168868, 18)\n"
     ]
    }
   ],
   "source": [
    "# Splitting the Dataset into Test and Train\n",
    "X = pd.DataFrame(X)\n",
    "X_train, X_test, y_train, y_test = train_test_split(X, y, test_size=0.2, random_state = 0)\n",
    "# Shape of train data\n",
    "print(X_train.shape)\n",
    "# Shape of test data\n",
    "print(X_test.shape)"
   ]
  },
  {
   "cell_type": "markdown",
   "id": "44be1466",
   "metadata": {},
   "source": [
    "# Model - 1 - Linear Regression (OLS)"
   ]
  },
  {
   "cell_type": "code",
   "execution_count": 40,
   "id": "17aedef7",
   "metadata": {},
   "outputs": [
    {
     "data": {
      "text/html": [
       "<style>#sk-container-id-1 {color: black;background-color: white;}#sk-container-id-1 pre{padding: 0;}#sk-container-id-1 div.sk-toggleable {background-color: white;}#sk-container-id-1 label.sk-toggleable__label {cursor: pointer;display: block;width: 100%;margin-bottom: 0;padding: 0.3em;box-sizing: border-box;text-align: center;}#sk-container-id-1 label.sk-toggleable__label-arrow:before {content: \"▸\";float: left;margin-right: 0.25em;color: #696969;}#sk-container-id-1 label.sk-toggleable__label-arrow:hover:before {color: black;}#sk-container-id-1 div.sk-estimator:hover label.sk-toggleable__label-arrow:before {color: black;}#sk-container-id-1 div.sk-toggleable__content {max-height: 0;max-width: 0;overflow: hidden;text-align: left;background-color: #f0f8ff;}#sk-container-id-1 div.sk-toggleable__content pre {margin: 0.2em;color: black;border-radius: 0.25em;background-color: #f0f8ff;}#sk-container-id-1 input.sk-toggleable__control:checked~div.sk-toggleable__content {max-height: 200px;max-width: 100%;overflow: auto;}#sk-container-id-1 input.sk-toggleable__control:checked~label.sk-toggleable__label-arrow:before {content: \"▾\";}#sk-container-id-1 div.sk-estimator input.sk-toggleable__control:checked~label.sk-toggleable__label {background-color: #d4ebff;}#sk-container-id-1 div.sk-label input.sk-toggleable__control:checked~label.sk-toggleable__label {background-color: #d4ebff;}#sk-container-id-1 input.sk-hidden--visually {border: 0;clip: rect(1px 1px 1px 1px);clip: rect(1px, 1px, 1px, 1px);height: 1px;margin: -1px;overflow: hidden;padding: 0;position: absolute;width: 1px;}#sk-container-id-1 div.sk-estimator {font-family: monospace;background-color: #f0f8ff;border: 1px dotted black;border-radius: 0.25em;box-sizing: border-box;margin-bottom: 0.5em;}#sk-container-id-1 div.sk-estimator:hover {background-color: #d4ebff;}#sk-container-id-1 div.sk-parallel-item::after {content: \"\";width: 100%;border-bottom: 1px solid gray;flex-grow: 1;}#sk-container-id-1 div.sk-label:hover label.sk-toggleable__label {background-color: #d4ebff;}#sk-container-id-1 div.sk-serial::before {content: \"\";position: absolute;border-left: 1px solid gray;box-sizing: border-box;top: 0;bottom: 0;left: 50%;z-index: 0;}#sk-container-id-1 div.sk-serial {display: flex;flex-direction: column;align-items: center;background-color: white;padding-right: 0.2em;padding-left: 0.2em;position: relative;}#sk-container-id-1 div.sk-item {position: relative;z-index: 1;}#sk-container-id-1 div.sk-parallel {display: flex;align-items: stretch;justify-content: center;background-color: white;position: relative;}#sk-container-id-1 div.sk-item::before, #sk-container-id-1 div.sk-parallel-item::before {content: \"\";position: absolute;border-left: 1px solid gray;box-sizing: border-box;top: 0;bottom: 0;left: 50%;z-index: -1;}#sk-container-id-1 div.sk-parallel-item {display: flex;flex-direction: column;z-index: 1;position: relative;background-color: white;}#sk-container-id-1 div.sk-parallel-item:first-child::after {align-self: flex-end;width: 50%;}#sk-container-id-1 div.sk-parallel-item:last-child::after {align-self: flex-start;width: 50%;}#sk-container-id-1 div.sk-parallel-item:only-child::after {width: 0;}#sk-container-id-1 div.sk-dashed-wrapped {border: 1px dashed gray;margin: 0 0.4em 0.5em 0.4em;box-sizing: border-box;padding-bottom: 0.4em;background-color: white;}#sk-container-id-1 div.sk-label label {font-family: monospace;font-weight: bold;display: inline-block;line-height: 1.2em;}#sk-container-id-1 div.sk-label-container {text-align: center;}#sk-container-id-1 div.sk-container {/* jupyter's `normalize.less` sets `[hidden] { display: none; }` but bootstrap.min.css set `[hidden] { display: none !important; }` so we also need the `!important` here to be able to override the default hidden behavior on the sphinx rendered scikit-learn.org. See: https://github.com/scikit-learn/scikit-learn/issues/21755 */display: inline-block !important;position: relative;}#sk-container-id-1 div.sk-text-repr-fallback {display: none;}</style><div id=\"sk-container-id-1\" class=\"sk-top-container\"><div class=\"sk-text-repr-fallback\"><pre>LinearRegression()</pre><b>In a Jupyter environment, please rerun this cell to show the HTML representation or trust the notebook. <br />On GitHub, the HTML representation is unable to render, please try loading this page with nbviewer.org.</b></div><div class=\"sk-container\" hidden><div class=\"sk-item\"><div class=\"sk-estimator sk-toggleable\"><input class=\"sk-toggleable__control sk-hidden--visually\" id=\"sk-estimator-id-1\" type=\"checkbox\" checked><label for=\"sk-estimator-id-1\" class=\"sk-toggleable__label sk-toggleable__label-arrow\">LinearRegression</label><div class=\"sk-toggleable__content\"><pre>LinearRegression()</pre></div></div></div></div></div>"
      ],
      "text/plain": [
       "LinearRegression()"
      ]
     },
     "execution_count": 40,
     "metadata": {},
     "output_type": "execute_result"
    }
   ],
   "source": [
    "# Fitting Multiple Linear Regression to the Training set\n",
    "# Formation of equation\n",
    "regressor = LinearRegression()\n",
    "regressor.fit(X_train, y_train)"
   ]
  },
  {
   "cell_type": "code",
   "execution_count": 41,
   "id": "8dd8fc39",
   "metadata": {},
   "outputs": [
    {
     "data": {
      "text/plain": [
       "-344710.25514077564"
      ]
     },
     "execution_count": 41,
     "metadata": {},
     "output_type": "execute_result"
    }
   ],
   "source": [
    "# Intercept of equation\n",
    "regressor.intercept_"
   ]
  },
  {
   "cell_type": "code",
   "execution_count": 42,
   "id": "08190b14",
   "metadata": {},
   "outputs": [
    {
     "data": {
      "text/plain": [
       "array([-6.69181608e+01,  6.35850015e+00,  1.29082179e+03, -6.56417782e-08,\n",
       "        3.38566369e+01,  1.75976938e+02,  4.87102093e+01,  1.29607213e+00,\n",
       "       -2.10654060e+00,  2.72582067e+02,  2.16896982e+02,  2.82276573e-02,\n",
       "       -1.35615984e+01, -4.27381309e+00,  1.24728427e+05,  1.01668170e+01,\n",
       "       -6.20941398e+01, -9.35493795e+01])"
      ]
     },
     "execution_count": 42,
     "metadata": {},
     "output_type": "execute_result"
    }
   ],
   "source": [
    "# Coefficients OR Model parameters of equation\n",
    "regressor.coef_"
   ]
  },
  {
   "cell_type": "code",
   "execution_count": 43,
   "id": "f82782fe",
   "metadata": {},
   "outputs": [],
   "source": [
    "# Predicting the Train set results\n",
    "y_pred_train = regressor.predict(X_train)"
   ]
  },
  {
   "cell_type": "code",
   "execution_count": 44,
   "id": "52d54cba",
   "metadata": {},
   "outputs": [],
   "source": [
    "# Predicting the Test set results\n",
    "y_pred_test = regressor.predict(X_test)"
   ]
  },
  {
   "cell_type": "code",
   "execution_count": 45,
   "id": "069e157f",
   "metadata": {},
   "outputs": [],
   "source": [
    "# Defining RMSE function\n",
    "from sklearn.metrics import mean_squared_error\n",
    "from math import sqrt\n",
    "\n",
    "def rmse(x, y):\n",
    "    return sqrt(mean_squared_error(x, y))\n",
    "\n",
    "# Defining MAPE function\n",
    "def mape(x, y): \n",
    "    return np.mean(np.abs((x - y) / x)) * 100 "
   ]
  },
  {
   "cell_type": "code",
   "execution_count": 46,
   "id": "60ab2a2b",
   "metadata": {},
   "outputs": [
    {
     "name": "stdout",
     "output_type": "stream",
     "text": [
      "Regresion Model Training Score : 0.7647327184430374 Model Test Score : 0.7607418193781323\n",
      "Training RMSE : 1504.9241557295234 Testing RMSE : 1520.4588391770449\n",
      "Training MAPE : 15.876188810899505 Testing MAPE : 15.919220963538569\n",
      "R2 : 0.7607418193781323\n"
     ]
    }
   ],
   "source": [
    "# Evaluation Metrics for Linear Regression\n",
    "\n",
    "print(\"Regresion Model Training Score\" , \":\" , regressor.score(X_train, y_train),\n",
    "      \"Model Test Score\" ,\":\" , regressor.score(X_test, y_test))\n",
    "\n",
    "print(\"Training RMSE\", \":\", rmse(y_train, y_pred_train),\n",
    "      \"Testing RMSE\", \":\", rmse(y_test, y_pred_test))\n",
    "\n",
    "print(\"Training MAPE\", \":\", mape(y_train, y_pred_train),\n",
    "      \"Testing MAPE\", \":\", mape(y_test, y_pred_test))\n",
    "\n",
    "r2 = r2_score(y_test, y_pred_test)\n",
    "print(\"R2 :\" ,r2)"
   ]
  },
  {
   "cell_type": "code",
   "execution_count": 50,
   "id": "70057677",
   "metadata": {},
   "outputs": [
    {
     "data": {
      "text/plain": [
       "Text(0, 0.5, 'Predicted values')"
      ]
     },
     "execution_count": 50,
     "metadata": {},
     "output_type": "execute_result"
    },
    {
     "data": {
      "image/png": "[encoded data removed]",
      "text/plain": [
       "<Figure size 1000x1000 with 1 Axes>"
      ]
     },
     "metadata": {},
     "output_type": "display_data"
    }
   ],
   "source": [
    "# Showing the optimally fitted line\n",
    "plt.figure(figsize=(10,10))\n",
    "plt.scatter(y_test,y_pred_test)\n",
    "\n",
    "p1 = max(max(y_pred_test),max(y_test))\n",
    "p2 = min(min(y_pred_test),min(y_test))\n",
    "plt.plot([p1,p2],[p1,p2],c='r')\n",
    "plt.xlabel('Actual values')\n",
    "plt.ylabel('Predicted values')"
   ]
  },
  {
   "cell_type": "markdown",
   "id": "dbafe0a6",
   "metadata": {},
   "source": [
    "# Model - 2 - Lasso Regression (L1)"
   ]
  },
  {
   "cell_type": "code",
   "execution_count": 47,
   "id": "4b9a0f2c",
   "metadata": {},
   "outputs": [
    {
     "data": {
      "text/html": [
       "<style>#sk-container-id-2 {color: black;background-color: white;}#sk-container-id-2 pre{padding: 0;}#sk-container-id-2 div.sk-toggleable {background-color: white;}#sk-container-id-2 label.sk-toggleable__label {cursor: pointer;display: block;width: 100%;margin-bottom: 0;padding: 0.3em;box-sizing: border-box;text-align: center;}#sk-container-id-2 label.sk-toggleable__label-arrow:before {content: \"▸\";float: left;margin-right: 0.25em;color: #696969;}#sk-container-id-2 label.sk-toggleable__label-arrow:hover:before {color: black;}#sk-container-id-2 div.sk-estimator:hover label.sk-toggleable__label-arrow:before {color: black;}#sk-container-id-2 div.sk-toggleable__content {max-height: 0;max-width: 0;overflow: hidden;text-align: left;background-color: #f0f8ff;}#sk-container-id-2 div.sk-toggleable__content pre {margin: 0.2em;color: black;border-radius: 0.25em;background-color: #f0f8ff;}#sk-container-id-2 input.sk-toggleable__control:checked~div.sk-toggleable__content {max-height: 200px;max-width: 100%;overflow: auto;}#sk-container-id-2 input.sk-toggleable__control:checked~label.sk-toggleable__label-arrow:before {content: \"▾\";}#sk-container-id-2 div.sk-estimator input.sk-toggleable__control:checked~label.sk-toggleable__label {background-color: #d4ebff;}#sk-container-id-2 div.sk-label input.sk-toggleable__control:checked~label.sk-toggleable__label {background-color: #d4ebff;}#sk-container-id-2 input.sk-hidden--visually {border: 0;clip: rect(1px 1px 1px 1px);clip: rect(1px, 1px, 1px, 1px);height: 1px;margin: -1px;overflow: hidden;padding: 0;position: absolute;width: 1px;}#sk-container-id-2 div.sk-estimator {font-family: monospace;background-color: #f0f8ff;border: 1px dotted black;border-radius: 0.25em;box-sizing: border-box;margin-bottom: 0.5em;}#sk-container-id-2 div.sk-estimator:hover {background-color: #d4ebff;}#sk-container-id-2 div.sk-parallel-item::after {content: \"\";width: 100%;border-bottom: 1px solid gray;flex-grow: 1;}#sk-container-id-2 div.sk-label:hover label.sk-toggleable__label {background-color: #d4ebff;}#sk-container-id-2 div.sk-serial::before {content: \"\";position: absolute;border-left: 1px solid gray;box-sizing: border-box;top: 0;bottom: 0;left: 50%;z-index: 0;}#sk-container-id-2 div.sk-serial {display: flex;flex-direction: column;align-items: center;background-color: white;padding-right: 0.2em;padding-left: 0.2em;position: relative;}#sk-container-id-2 div.sk-item {position: relative;z-index: 1;}#sk-container-id-2 div.sk-parallel {display: flex;align-items: stretch;justify-content: center;background-color: white;position: relative;}#sk-container-id-2 div.sk-item::before, #sk-container-id-2 div.sk-parallel-item::before {content: \"\";position: absolute;border-left: 1px solid gray;box-sizing: border-box;top: 0;bottom: 0;left: 50%;z-index: -1;}#sk-container-id-2 div.sk-parallel-item {display: flex;flex-direction: column;z-index: 1;position: relative;background-color: white;}#sk-container-id-2 div.sk-parallel-item:first-child::after {align-self: flex-end;width: 50%;}#sk-container-id-2 div.sk-parallel-item:last-child::after {align-self: flex-start;width: 50%;}#sk-container-id-2 div.sk-parallel-item:only-child::after {width: 0;}#sk-container-id-2 div.sk-dashed-wrapped {border: 1px dashed gray;margin: 0 0.4em 0.5em 0.4em;box-sizing: border-box;padding-bottom: 0.4em;background-color: white;}#sk-container-id-2 div.sk-label label {font-family: monospace;font-weight: bold;display: inline-block;line-height: 1.2em;}#sk-container-id-2 div.sk-label-container {text-align: center;}#sk-container-id-2 div.sk-container {/* jupyter's `normalize.less` sets `[hidden] { display: none; }` but bootstrap.min.css set `[hidden] { display: none !important; }` so we also need the `!important` here to be able to override the default hidden behavior on the sphinx rendered scikit-learn.org. See: https://github.com/scikit-learn/scikit-learn/issues/21755 */display: inline-block !important;position: relative;}#sk-container-id-2 div.sk-text-repr-fallback {display: none;}</style><div id=\"sk-container-id-2\" class=\"sk-top-container\"><div class=\"sk-text-repr-fallback\"><pre>Lasso(alpha=0.2, max_iter=10000)</pre><b>In a Jupyter environment, please rerun this cell to show the HTML representation or trust the notebook. <br />On GitHub, the HTML representation is unable to render, please try loading this page with nbviewer.org.</b></div><div class=\"sk-container\" hidden><div class=\"sk-item\"><div class=\"sk-estimator sk-toggleable\"><input class=\"sk-toggleable__control sk-hidden--visually\" id=\"sk-estimator-id-2\" type=\"checkbox\" checked><label for=\"sk-estimator-id-2\" class=\"sk-toggleable__label sk-toggleable__label-arrow\">Lasso</label><div class=\"sk-toggleable__content\"><pre>Lasso(alpha=0.2, max_iter=10000)</pre></div></div></div></div></div>"
      ],
      "text/plain": [
       "Lasso(alpha=0.2, max_iter=10000)"
      ]
     },
     "execution_count": 47,
     "metadata": {},
     "output_type": "execute_result"
    }
   ],
   "source": [
    "# Fitting Lasso Regression to the Training set\n",
    "lasso = Lasso(alpha = 0.2, max_iter=10000)\n",
    "lasso.fit(X_train, y_train)"
   ]
  },
  {
   "cell_type": "code",
   "execution_count": 51,
   "id": "006192ee",
   "metadata": {},
   "outputs": [],
   "source": [
    "# Predicting the Test set results\n",
    "y_pred_lasso = lasso.predict(X_test)"
   ]
  },
  {
   "cell_type": "code",
   "execution_count": 52,
   "id": "d374e867",
   "metadata": {},
   "outputs": [],
   "source": [
    "# Predicting the Train set results\n",
    "y_pred_train_lasso = lasso.predict(X_train)"
   ]
  },
  {
   "cell_type": "code",
   "execution_count": 53,
   "id": "0e6ea03e",
   "metadata": {},
   "outputs": [
    {
     "name": "stdout",
     "output_type": "stream",
     "text": [
      "Regresion Model Training Score : 0.7642293582112447 Model Test Score : 0.7602704845313686\n",
      "Training RMSE : 1506.5332069690814 Testing RMSE : 1521.9557423014805\n",
      "Training MAPE : 15.899140877422417 Testing MAPE : 15.93819226290272\n",
      "R2 : 0.7602704845313686\n"
     ]
    }
   ],
   "source": [
    "# Evaluation Metrics for Lasson Regression (L1)\n",
    "\n",
    "print(\"Regresion Model Training Score\" , \":\" , lasso.score(X_train, y_train),\n",
    "      \"Model Test Score\" ,\":\" , lasso.score(X_test, y_test))\n",
    "\n",
    "print(\"Training RMSE\", \":\", rmse(y_train, y_pred_train_lasso),\n",
    "      \"Testing RMSE\", \":\", rmse(y_test, y_pred_lasso))\n",
    "\n",
    "print(\"Training MAPE\", \":\", mape(y_train, y_pred_train_lasso),\n",
    "      \"Testing MAPE\", \":\", mape(y_test, y_pred_lasso))\n",
    "\n",
    "r2 = r2_score(y_test, y_pred_lasso)\n",
    "print(\"R2 :\" ,r2)"
   ]
  },
  {
   "cell_type": "markdown",
   "id": "c7ff9522",
   "metadata": {},
   "source": [
    "# Model - 3 - Ridge Regression (L2)"
   ]
  },
  {
   "cell_type": "code",
   "execution_count": 54,
   "id": "09565105",
   "metadata": {
    "scrolled": true
   },
   "outputs": [
    {
     "data": {
      "text/html": [
       "<style>#sk-container-id-3 {color: black;background-color: white;}#sk-container-id-3 pre{padding: 0;}#sk-container-id-3 div.sk-toggleable {background-color: white;}#sk-container-id-3 label.sk-toggleable__label {cursor: pointer;display: block;width: 100%;margin-bottom: 0;padding: 0.3em;box-sizing: border-box;text-align: center;}#sk-container-id-3 label.sk-toggleable__label-arrow:before {content: \"▸\";float: left;margin-right: 0.25em;color: #696969;}#sk-container-id-3 label.sk-toggleable__label-arrow:hover:before {color: black;}#sk-container-id-3 div.sk-estimator:hover label.sk-toggleable__label-arrow:before {color: black;}#sk-container-id-3 div.sk-toggleable__content {max-height: 0;max-width: 0;overflow: hidden;text-align: left;background-color: #f0f8ff;}#sk-container-id-3 div.sk-toggleable__content pre {margin: 0.2em;color: black;border-radius: 0.25em;background-color: #f0f8ff;}#sk-container-id-3 input.sk-toggleable__control:checked~div.sk-toggleable__content {max-height: 200px;max-width: 100%;overflow: auto;}#sk-container-id-3 input.sk-toggleable__control:checked~label.sk-toggleable__label-arrow:before {content: \"▾\";}#sk-container-id-3 div.sk-estimator input.sk-toggleable__control:checked~label.sk-toggleable__label {background-color: #d4ebff;}#sk-container-id-3 div.sk-label input.sk-toggleable__control:checked~label.sk-toggleable__label {background-color: #d4ebff;}#sk-container-id-3 input.sk-hidden--visually {border: 0;clip: rect(1px 1px 1px 1px);clip: rect(1px, 1px, 1px, 1px);height: 1px;margin: -1px;overflow: hidden;padding: 0;position: absolute;width: 1px;}#sk-container-id-3 div.sk-estimator {font-family: monospace;background-color: #f0f8ff;border: 1px dotted black;border-radius: 0.25em;box-sizing: border-box;margin-bottom: 0.5em;}#sk-container-id-3 div.sk-estimator:hover {background-color: #d4ebff;}#sk-container-id-3 div.sk-parallel-item::after {content: \"\";width: 100%;border-bottom: 1px solid gray;flex-grow: 1;}#sk-container-id-3 div.sk-label:hover label.sk-toggleable__label {background-color: #d4ebff;}#sk-container-id-3 div.sk-serial::before {content: \"\";position: absolute;border-left: 1px solid gray;box-sizing: border-box;top: 0;bottom: 0;left: 50%;z-index: 0;}#sk-container-id-3 div.sk-serial {display: flex;flex-direction: column;align-items: center;background-color: white;padding-right: 0.2em;padding-left: 0.2em;position: relative;}#sk-container-id-3 div.sk-item {position: relative;z-index: 1;}#sk-container-id-3 div.sk-parallel {display: flex;align-items: stretch;justify-content: center;background-color: white;position: relative;}#sk-container-id-3 div.sk-item::before, #sk-container-id-3 div.sk-parallel-item::before {content: \"\";position: absolute;border-left: 1px solid gray;box-sizing: border-box;top: 0;bottom: 0;left: 50%;z-index: -1;}#sk-container-id-3 div.sk-parallel-item {display: flex;flex-direction: column;z-index: 1;position: relative;background-color: white;}#sk-container-id-3 div.sk-parallel-item:first-child::after {align-self: flex-end;width: 50%;}#sk-container-id-3 div.sk-parallel-item:last-child::after {align-self: flex-start;width: 50%;}#sk-container-id-3 div.sk-parallel-item:only-child::after {width: 0;}#sk-container-id-3 div.sk-dashed-wrapped {border: 1px dashed gray;margin: 0 0.4em 0.5em 0.4em;box-sizing: border-box;padding-bottom: 0.4em;background-color: white;}#sk-container-id-3 div.sk-label label {font-family: monospace;font-weight: bold;display: inline-block;line-height: 1.2em;}#sk-container-id-3 div.sk-label-container {text-align: center;}#sk-container-id-3 div.sk-container {/* jupyter's `normalize.less` sets `[hidden] { display: none; }` but bootstrap.min.css set `[hidden] { display: none !important; }` so we also need the `!important` here to be able to override the default hidden behavior on the sphinx rendered scikit-learn.org. See: https://github.com/scikit-learn/scikit-learn/issues/21755 */display: inline-block !important;position: relative;}#sk-container-id-3 div.sk-text-repr-fallback {display: none;}</style><div id=\"sk-container-id-3\" class=\"sk-top-container\"><div class=\"sk-text-repr-fallback\"><pre>Ridge(alpha=0.5)</pre><b>In a Jupyter environment, please rerun this cell to show the HTML representation or trust the notebook. <br />On GitHub, the HTML representation is unable to render, please try loading this page with nbviewer.org.</b></div><div class=\"sk-container\" hidden><div class=\"sk-item\"><div class=\"sk-estimator sk-toggleable\"><input class=\"sk-toggleable__control sk-hidden--visually\" id=\"sk-estimator-id-3\" type=\"checkbox\" checked><label for=\"sk-estimator-id-3\" class=\"sk-toggleable__label sk-toggleable__label-arrow\">Ridge</label><div class=\"sk-toggleable__content\"><pre>Ridge(alpha=0.5)</pre></div></div></div></div></div>"
      ],
      "text/plain": [
       "Ridge(alpha=0.5)"
      ]
     },
     "execution_count": 54,
     "metadata": {},
     "output_type": "execute_result"
    }
   ],
   "source": [
    "# Fitting Ridge Regression to the Training set\n",
    "ridge = Ridge(alpha = 0.5)\n",
    "ridge.fit(X_train, y_train)"
   ]
  },
  {
   "cell_type": "code",
   "execution_count": 55,
   "id": "feea52a5",
   "metadata": {},
   "outputs": [],
   "source": [
    "# Predicting the Test set results\n",
    "y_pred_ridge = ridge.predict(X_test)"
   ]
  },
  {
   "cell_type": "code",
   "execution_count": 56,
   "id": "31e642e2",
   "metadata": {},
   "outputs": [],
   "source": [
    "# Predicting the Train set results\n",
    "y_pred_train_ridge = ridge.predict(X_train)"
   ]
  },
  {
   "cell_type": "code",
   "execution_count": 57,
   "id": "db67bb46",
   "metadata": {},
   "outputs": [
    {
     "name": "stdout",
     "output_type": "stream",
     "text": [
      "Regresion Model Training Score : 0.7644833749882898 Model Test Score : 0.7605140408028379\n",
      "Training RMSE : 1505.7214268477057 Testing RMSE : 1521.1824206209699\n",
      "Training MAPE : 15.885898111705146 Testing MAPE : 15.926092954181204\n",
      "R2 : 0.7605140408028379\n"
     ]
    }
   ],
   "source": [
    "# Evaluation Metrics for Ridge Regression (L2)\n",
    "\n",
    "print(\"Regresion Model Training Score\" , \":\" , ridge.score(X_train, y_train),\n",
    "      \"Model Test Score\" ,\":\" , ridge.score(X_test, y_test))\n",
    "\n",
    "print(\"Training RMSE\", \":\", rmse(y_train, y_pred_train_ridge),\n",
    "      \"Testing RMSE\", \":\", rmse(y_test, y_pred_ridge))\n",
    "\n",
    "print(\"Training MAPE\", \":\", mape(y_train, y_pred_train_ridge),\n",
    "      \"Testing MAPE\", \":\", mape(y_test, y_pred_ridge))\n",
    "\n",
    "r2 = r2_score(y_test, y_pred_ridge)\n",
    "print(\"R2 :\" ,r2)"
   ]
  },
  {
   "cell_type": "markdown",
   "id": "d29aa4f4",
   "metadata": {},
   "source": [
    "# Model - 4 - Decision Tree"
   ]
  },
  {
   "cell_type": "code",
   "execution_count": 58,
   "id": "ddf1682c",
   "metadata": {},
   "outputs": [
    {
     "data": {
      "text/html": [
       "<style>#sk-container-id-4 {color: black;background-color: white;}#sk-container-id-4 pre{padding: 0;}#sk-container-id-4 div.sk-toggleable {background-color: white;}#sk-container-id-4 label.sk-toggleable__label {cursor: pointer;display: block;width: 100%;margin-bottom: 0;padding: 0.3em;box-sizing: border-box;text-align: center;}#sk-container-id-4 label.sk-toggleable__label-arrow:before {content: \"▸\";float: left;margin-right: 0.25em;color: #696969;}#sk-container-id-4 label.sk-toggleable__label-arrow:hover:before {color: black;}#sk-container-id-4 div.sk-estimator:hover label.sk-toggleable__label-arrow:before {color: black;}#sk-container-id-4 div.sk-toggleable__content {max-height: 0;max-width: 0;overflow: hidden;text-align: left;background-color: #f0f8ff;}#sk-container-id-4 div.sk-toggleable__content pre {margin: 0.2em;color: black;border-radius: 0.25em;background-color: #f0f8ff;}#sk-container-id-4 input.sk-toggleable__control:checked~div.sk-toggleable__content {max-height: 200px;max-width: 100%;overflow: auto;}#sk-container-id-4 input.sk-toggleable__control:checked~label.sk-toggleable__label-arrow:before {content: \"▾\";}#sk-container-id-4 div.sk-estimator input.sk-toggleable__control:checked~label.sk-toggleable__label {background-color: #d4ebff;}#sk-container-id-4 div.sk-label input.sk-toggleable__control:checked~label.sk-toggleable__label {background-color: #d4ebff;}#sk-container-id-4 input.sk-hidden--visually {border: 0;clip: rect(1px 1px 1px 1px);clip: rect(1px, 1px, 1px, 1px);height: 1px;margin: -1px;overflow: hidden;padding: 0;position: absolute;width: 1px;}#sk-container-id-4 div.sk-estimator {font-family: monospace;background-color: #f0f8ff;border: 1px dotted black;border-radius: 0.25em;box-sizing: border-box;margin-bottom: 0.5em;}#sk-container-id-4 div.sk-estimator:hover {background-color: #d4ebff;}#sk-container-id-4 div.sk-parallel-item::after {content: \"\";width: 100%;border-bottom: 1px solid gray;flex-grow: 1;}#sk-container-id-4 div.sk-label:hover label.sk-toggleable__label {background-color: #d4ebff;}#sk-container-id-4 div.sk-serial::before {content: \"\";position: absolute;border-left: 1px solid gray;box-sizing: border-box;top: 0;bottom: 0;left: 50%;z-index: 0;}#sk-container-id-4 div.sk-serial {display: flex;flex-direction: column;align-items: center;background-color: white;padding-right: 0.2em;padding-left: 0.2em;position: relative;}#sk-container-id-4 div.sk-item {position: relative;z-index: 1;}#sk-container-id-4 div.sk-parallel {display: flex;align-items: stretch;justify-content: center;background-color: white;position: relative;}#sk-container-id-4 div.sk-item::before, #sk-container-id-4 div.sk-parallel-item::before {content: \"\";position: absolute;border-left: 1px solid gray;box-sizing: border-box;top: 0;bottom: 0;left: 50%;z-index: -1;}#sk-container-id-4 div.sk-parallel-item {display: flex;flex-direction: column;z-index: 1;position: relative;background-color: white;}#sk-container-id-4 div.sk-parallel-item:first-child::after {align-self: flex-end;width: 50%;}#sk-container-id-4 div.sk-parallel-item:last-child::after {align-self: flex-start;width: 50%;}#sk-container-id-4 div.sk-parallel-item:only-child::after {width: 0;}#sk-container-id-4 div.sk-dashed-wrapped {border: 1px dashed gray;margin: 0 0.4em 0.5em 0.4em;box-sizing: border-box;padding-bottom: 0.4em;background-color: white;}#sk-container-id-4 div.sk-label label {font-family: monospace;font-weight: bold;display: inline-block;line-height: 1.2em;}#sk-container-id-4 div.sk-label-container {text-align: center;}#sk-container-id-4 div.sk-container {/* jupyter's `normalize.less` sets `[hidden] { display: none; }` but bootstrap.min.css set `[hidden] { display: none !important; }` so we also need the `!important` here to be able to override the default hidden behavior on the sphinx rendered scikit-learn.org. See: https://github.com/scikit-learn/scikit-learn/issues/21755 */display: inline-block !important;position: relative;}#sk-container-id-4 div.sk-text-repr-fallback {display: none;}</style><div id=\"sk-container-id-4\" class=\"sk-top-container\"><div class=\"sk-text-repr-fallback\"><pre>DecisionTreeRegressor(max_depth=5)</pre><b>In a Jupyter environment, please rerun this cell to show the HTML representation or trust the notebook. <br />On GitHub, the HTML representation is unable to render, please try loading this page with nbviewer.org.</b></div><div class=\"sk-container\" hidden><div class=\"sk-item\"><div class=\"sk-estimator sk-toggleable\"><input class=\"sk-toggleable__control sk-hidden--visually\" id=\"sk-estimator-id-4\" type=\"checkbox\" checked><label for=\"sk-estimator-id-4\" class=\"sk-toggleable__label sk-toggleable__label-arrow\">DecisionTreeRegressor</label><div class=\"sk-toggleable__content\"><pre>DecisionTreeRegressor(max_depth=5)</pre></div></div></div></div></div>"
      ],
      "text/plain": [
       "DecisionTreeRegressor(max_depth=5)"
      ]
     },
     "execution_count": 58,
     "metadata": {},
     "output_type": "execute_result"
    }
   ],
   "source": [
    "# Fitting Decision Tree to the Training set\n",
    "dt = DecisionTreeRegressor(max_depth=5)\n",
    "dt.fit(X_train, y_train)"
   ]
  },
  {
   "cell_type": "code",
   "execution_count": 59,
   "id": "3cd5e6b0",
   "metadata": {},
   "outputs": [],
   "source": [
    "# Predicting the Test set results\n",
    "y_pred_dt = dt.predict(X_test)"
   ]
  },
  {
   "cell_type": "code",
   "execution_count": 60,
   "id": "af95d00a",
   "metadata": {},
   "outputs": [],
   "source": [
    "# Predicting the Train set results\n",
    "y_train_dt = dt.predict(X_train)"
   ]
  },
  {
   "cell_type": "code",
   "execution_count": 61,
   "id": "ddf03788",
   "metadata": {},
   "outputs": [
    {
     "name": "stdout",
     "output_type": "stream",
     "text": [
      "Regresion Model Training Score : 0.7888292421302908 Model Test Score : 0.7873972039019176\n",
      "Training RMSE : 1425.774146033609 Testing RMSE : 1433.2625581718194\n",
      "Training MAPE : 15.449198981158546 Testing MAPE : 15.477798070088266\n",
      "R2 : 0.7605140408028379\n"
     ]
    }
   ],
   "source": [
    "# Evaluation Metrics for Decision Tree\n",
    "\n",
    "print(\"Regresion Model Training Score\" , \":\" , dt.score(X_train, y_train),\n",
    "      \"Model Test Score\" ,\":\" , dt.score(X_test, y_test))\n",
    "\n",
    "print(\"Training RMSE\", \":\", rmse(y_train, y_train_dt),\n",
    "      \"Testing RMSE\", \":\", rmse(y_test, y_pred_dt))\n",
    "\n",
    "print(\"Training MAPE\", \":\", mape(y_train, y_train_dt),\n",
    "      \"Testing MAPE\", \":\", mape(y_test, y_pred_dt))\n",
    "\n",
    "r2 = r2_score(y_test, y_pred_ridge)\n",
    "print(\"R2 :\" ,r2)"
   ]
  },
  {
   "cell_type": "markdown",
   "id": "d9570d37",
   "metadata": {},
   "source": [
    "# Model - 5 - Random Forest"
   ]
  },
  {
   "cell_type": "code",
   "execution_count": 62,
   "id": "72a3b36d",
   "metadata": {},
   "outputs": [
    {
     "data": {
      "text/html": [
       "<style>#sk-container-id-5 {color: black;background-color: white;}#sk-container-id-5 pre{padding: 0;}#sk-container-id-5 div.sk-toggleable {background-color: white;}#sk-container-id-5 label.sk-toggleable__label {cursor: pointer;display: block;width: 100%;margin-bottom: 0;padding: 0.3em;box-sizing: border-box;text-align: center;}#sk-container-id-5 label.sk-toggleable__label-arrow:before {content: \"▸\";float: left;margin-right: 0.25em;color: #696969;}#sk-container-id-5 label.sk-toggleable__label-arrow:hover:before {color: black;}#sk-container-id-5 div.sk-estimator:hover label.sk-toggleable__label-arrow:before {color: black;}#sk-container-id-5 div.sk-toggleable__content {max-height: 0;max-width: 0;overflow: hidden;text-align: left;background-color: #f0f8ff;}#sk-container-id-5 div.sk-toggleable__content pre {margin: 0.2em;color: black;border-radius: 0.25em;background-color: #f0f8ff;}#sk-container-id-5 input.sk-toggleable__control:checked~div.sk-toggleable__content {max-height: 200px;max-width: 100%;overflow: auto;}#sk-container-id-5 input.sk-toggleable__control:checked~label.sk-toggleable__label-arrow:before {content: \"▾\";}#sk-container-id-5 div.sk-estimator input.sk-toggleable__control:checked~label.sk-toggleable__label {background-color: #d4ebff;}#sk-container-id-5 div.sk-label input.sk-toggleable__control:checked~label.sk-toggleable__label {background-color: #d4ebff;}#sk-container-id-5 input.sk-hidden--visually {border: 0;clip: rect(1px 1px 1px 1px);clip: rect(1px, 1px, 1px, 1px);height: 1px;margin: -1px;overflow: hidden;padding: 0;position: absolute;width: 1px;}#sk-container-id-5 div.sk-estimator {font-family: monospace;background-color: #f0f8ff;border: 1px dotted black;border-radius: 0.25em;box-sizing: border-box;margin-bottom: 0.5em;}#sk-container-id-5 div.sk-estimator:hover {background-color: #d4ebff;}#sk-container-id-5 div.sk-parallel-item::after {content: \"\";width: 100%;border-bottom: 1px solid gray;flex-grow: 1;}#sk-container-id-5 div.sk-label:hover label.sk-toggleable__label {background-color: #d4ebff;}#sk-container-id-5 div.sk-serial::before {content: \"\";position: absolute;border-left: 1px solid gray;box-sizing: border-box;top: 0;bottom: 0;left: 50%;z-index: 0;}#sk-container-id-5 div.sk-serial {display: flex;flex-direction: column;align-items: center;background-color: white;padding-right: 0.2em;padding-left: 0.2em;position: relative;}#sk-container-id-5 div.sk-item {position: relative;z-index: 1;}#sk-container-id-5 div.sk-parallel {display: flex;align-items: stretch;justify-content: center;background-color: white;position: relative;}#sk-container-id-5 div.sk-item::before, #sk-container-id-5 div.sk-parallel-item::before {content: \"\";position: absolute;border-left: 1px solid gray;box-sizing: border-box;top: 0;bottom: 0;left: 50%;z-index: -1;}#sk-container-id-5 div.sk-parallel-item {display: flex;flex-direction: column;z-index: 1;position: relative;background-color: white;}#sk-container-id-5 div.sk-parallel-item:first-child::after {align-self: flex-end;width: 50%;}#sk-container-id-5 div.sk-parallel-item:last-child::after {align-self: flex-start;width: 50%;}#sk-container-id-5 div.sk-parallel-item:only-child::after {width: 0;}#sk-container-id-5 div.sk-dashed-wrapped {border: 1px dashed gray;margin: 0 0.4em 0.5em 0.4em;box-sizing: border-box;padding-bottom: 0.4em;background-color: white;}#sk-container-id-5 div.sk-label label {font-family: monospace;font-weight: bold;display: inline-block;line-height: 1.2em;}#sk-container-id-5 div.sk-label-container {text-align: center;}#sk-container-id-5 div.sk-container {/* jupyter's `normalize.less` sets `[hidden] { display: none; }` but bootstrap.min.css set `[hidden] { display: none !important; }` so we also need the `!important` here to be able to override the default hidden behavior on the sphinx rendered scikit-learn.org. See: https://github.com/scikit-learn/scikit-learn/issues/21755 */display: inline-block !important;position: relative;}#sk-container-id-5 div.sk-text-repr-fallback {display: none;}</style><div id=\"sk-container-id-5\" class=\"sk-top-container\"><div class=\"sk-text-repr-fallback\"><pre>RandomForestRegressor(max_depth=5)</pre><b>In a Jupyter environment, please rerun this cell to show the HTML representation or trust the notebook. <br />On GitHub, the HTML representation is unable to render, please try loading this page with nbviewer.org.</b></div><div class=\"sk-container\" hidden><div class=\"sk-item\"><div class=\"sk-estimator sk-toggleable\"><input class=\"sk-toggleable__control sk-hidden--visually\" id=\"sk-estimator-id-5\" type=\"checkbox\" checked><label for=\"sk-estimator-id-5\" class=\"sk-toggleable__label sk-toggleable__label-arrow\">RandomForestRegressor</label><div class=\"sk-toggleable__content\"><pre>RandomForestRegressor(max_depth=5)</pre></div></div></div></div></div>"
      ],
      "text/plain": [
       "RandomForestRegressor(max_depth=5)"
      ]
     },
     "execution_count": 62,
     "metadata": {},
     "output_type": "execute_result"
    }
   ],
   "source": [
    "# Fitting Random Forest to the Training set\n",
    "random_forest=RandomForestRegressor(n_estimators =100,max_depth=5)\n",
    "random_forest.fit(X_train, y_train)\n"
   ]
  },
  {
   "cell_type": "code",
   "execution_count": 63,
   "id": "b019fc75",
   "metadata": {},
   "outputs": [],
   "source": [
    "# Predicting the Train set results\n",
    "y_pred_train_rf = random_forest.predict(X_train)"
   ]
  },
  {
   "cell_type": "code",
   "execution_count": 64,
   "id": "56033489",
   "metadata": {},
   "outputs": [],
   "source": [
    "# Predicting the Test set results\n",
    "y_pred_rf=random_forest.predict(X_test)"
   ]
  },
  {
   "cell_type": "code",
   "execution_count": 65,
   "id": "86794ef4",
   "metadata": {},
   "outputs": [
    {
     "name": "stdout",
     "output_type": "stream",
     "text": [
      "Regresion Model Training Score : 0.7982705738662563 Model Test Score : 0.7969966254410782\n",
      "Training RMSE : 1393.536898287651 Testing RMSE : 1400.5315555496184\n",
      "Training MAPE : 15.194385736079402 Testing MAPE : 15.221098222760787\n",
      "R2 : 0.7969966254410782\n"
     ]
    }
   ],
   "source": [
    "# Evaluation Metrics for Random Forest\n",
    "\n",
    "print(\"Regresion Model Training Score\" , \":\" , random_forest.score(X_train, y_train),\n",
    "      \"Model Test Score\" ,\":\" , random_forest.score(X_test, y_test))\n",
    "\n",
    "print(\"Training RMSE\", \":\", rmse(y_train, y_pred_train_rf),\n",
    "      \"Testing RMSE\", \":\", rmse(y_test, y_pred_rf))\n",
    "\n",
    "print(\"Training MAPE\", \":\", mape(y_train, y_pred_train_rf),\n",
    "      \"Testing MAPE\", \":\", mape(y_test, y_pred_rf))\n",
    "\n",
    "r2 = r2_score(y_test, y_pred_rf)\n",
    "print(\"R2 :\" ,r2)"
   ]
  },
  {
   "cell_type": "markdown",
   "id": "cea3384f",
   "metadata": {},
   "source": [
    "# Conclusion from Model"
   ]
  },
  {
   "cell_type": "markdown",
   "id": "24c745d1",
   "metadata": {},
   "source": [
    "By Looking at the evaluation metrices obtained on implementing different sort of regression model, we decided to go with the Random Forest model.The maximum R^2 was seen in Random Forest model with the value 0.79699. It means our best accurate model is able to explain approx/almost 79% of variances in the datasets."
   ]
  },
  {
   "cell_type": "markdown",
   "id": "0aefd537",
   "metadata": {},
   "source": [
    "# THANK YOU.\n",
    "\n"
   ]
  },
  {
   "cell_type": "markdown",
   "id": "f57c88c8",
   "metadata": {},
   "source": [
    "# Hope model will help the Store managers to predict the daily sales accuartely in advance. "
   ]
  },
  {
   "cell_type": "code",
   "execution_count": null,
   "id": "1d5bf8fa",
   "metadata": {},
   "outputs": [],
   "source": []
  }
 ],
 "metadata": {
  "kernelspec": {
   "display_name": "Python 3 (ipykernel)",
   "language": "python",
   "name": "python3"
  },
  "language_info": {
   "codemirror_mode": {
    "name": "ipython",
    "version": 3
   },
   "file_extension": ".py",
   "mimetype": "text/x-python",
   "name": "python",
   "nbconvert_exporter": "python",
   "pygments_lexer": "ipython3",
   "version": "3.10.9"
  }
 },
 "nbformat": 4,
 "nbformat_minor": 5
}
